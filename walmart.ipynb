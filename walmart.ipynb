{
  "cells": [
    {
      "cell_type": "markdown",
      "source": [
        "**Business Case: Walmart - Confidence Interval and CLT**"
      ],
      "metadata": {
        "id": "C6BrAlBEMUtt"
      }
    },
    {
      "cell_type": "markdown",
      "source": [
        "**About Walmart:**\n",
        "\n",
        "Walmart is an American multinational retail corporation that operates a chain of supercenters, discount departmental stores, and grocery stores from the United States. Walmart has more than 100 million customers worldwide.\n",
        "\n",
        "Business Problem:\n",
        "\n",
        "The Management team at Walmart Inc. wants to analyze the customer purchase behavior (specifically, purchase amount) against the customer’s gender and the various other factors to help the business make better decisions. They want to understand if the spending habits differ between male and female customers: Do women spend more on Black Friday than men? (Assume 50 million customers are male and 50 million are female)."
      ],
      "metadata": {
        "id": "NDOg9SeRMb4k"
      }
    },
    {
      "cell_type": "markdown",
      "source": [
        "**Importing Libraries and Data set**"
      ],
      "metadata": {
        "id": "MGB3dVO-Mjg7"
      }
    },
    {
      "cell_type": "code",
      "execution_count": null,
      "metadata": {
        "id": "6IqYScvOma7y"
      },
      "outputs": [],
      "source": [
        "import numpy as np\n",
        "import pandas as pd\n",
        "import matplotlib.pyplot as plt\n",
        "import seaborn as sns\n",
        "import scipy.stats\n"
      ]
    },
    {
      "cell_type": "code",
      "execution_count": null,
      "metadata": {
        "id": "oGE9CWZQmiqM"
      },
      "outputs": [],
      "source": [
        "df=pd.read_csv('walmart_data.txt')"
      ]
    },
    {
      "cell_type": "code",
      "execution_count": null,
      "metadata": {
        "colab": {
          "base_uri": "https://localhost:8080/",
          "height": 295
        },
        "id": "t3F4tr2_molA",
        "outputId": "9a397271-0731-4957-d0f8-3d8d8242a9aa"
      },
      "outputs": [
        {
          "output_type": "execute_result",
          "data": {
            "text/plain": [
              "   User_ID Product_ID Gender   Age  Occupation City_Category  \\\n",
              "0  1000001  P00069042      F  0-17          10             A   \n",
              "1  1000001  P00248942      F  0-17          10             A   \n",
              "2  1000001  P00087842      F  0-17          10             A   \n",
              "3  1000001  P00085442      F  0-17          10             A   \n",
              "4  1000002  P00285442      M   55+          16             C   \n",
              "\n",
              "  Stay_In_Current_City_Years  Marital_Status  Product_Category  Purchase  \n",
              "0                          2               0                 3      8370  \n",
              "1                          2               0                 1     15200  \n",
              "2                          2               0                12      1422  \n",
              "3                          2               0                12      1057  \n",
              "4                         4+               0                 8      7969  "
            ],
            "text/html": [
              "\n",
              "  <div id=\"df-b3aa5458-58ee-44ec-9926-3043aa2b7475\" class=\"colab-df-container\">\n",
              "    <div>\n",
              "<style scoped>\n",
              "    .dataframe tbody tr th:only-of-type {\n",
              "        vertical-align: middle;\n",
              "    }\n",
              "\n",
              "    .dataframe tbody tr th {\n",
              "        vertical-align: top;\n",
              "    }\n",
              "\n",
              "    .dataframe thead th {\n",
              "        text-align: right;\n",
              "    }\n",
              "</style>\n",
              "<table border=\"1\" class=\"dataframe\">\n",
              "  <thead>\n",
              "    <tr style=\"text-align: right;\">\n",
              "      <th></th>\n",
              "      <th>User_ID</th>\n",
              "      <th>Product_ID</th>\n",
              "      <th>Gender</th>\n",
              "      <th>Age</th>\n",
              "      <th>Occupation</th>\n",
              "      <th>City_Category</th>\n",
              "      <th>Stay_In_Current_City_Years</th>\n",
              "      <th>Marital_Status</th>\n",
              "      <th>Product_Category</th>\n",
              "      <th>Purchase</th>\n",
              "    </tr>\n",
              "  </thead>\n",
              "  <tbody>\n",
              "    <tr>\n",
              "      <th>0</th>\n",
              "      <td>1000001</td>\n",
              "      <td>P00069042</td>\n",
              "      <td>F</td>\n",
              "      <td>0-17</td>\n",
              "      <td>10</td>\n",
              "      <td>A</td>\n",
              "      <td>2</td>\n",
              "      <td>0</td>\n",
              "      <td>3</td>\n",
              "      <td>8370</td>\n",
              "    </tr>\n",
              "    <tr>\n",
              "      <th>1</th>\n",
              "      <td>1000001</td>\n",
              "      <td>P00248942</td>\n",
              "      <td>F</td>\n",
              "      <td>0-17</td>\n",
              "      <td>10</td>\n",
              "      <td>A</td>\n",
              "      <td>2</td>\n",
              "      <td>0</td>\n",
              "      <td>1</td>\n",
              "      <td>15200</td>\n",
              "    </tr>\n",
              "    <tr>\n",
              "      <th>2</th>\n",
              "      <td>1000001</td>\n",
              "      <td>P00087842</td>\n",
              "      <td>F</td>\n",
              "      <td>0-17</td>\n",
              "      <td>10</td>\n",
              "      <td>A</td>\n",
              "      <td>2</td>\n",
              "      <td>0</td>\n",
              "      <td>12</td>\n",
              "      <td>1422</td>\n",
              "    </tr>\n",
              "    <tr>\n",
              "      <th>3</th>\n",
              "      <td>1000001</td>\n",
              "      <td>P00085442</td>\n",
              "      <td>F</td>\n",
              "      <td>0-17</td>\n",
              "      <td>10</td>\n",
              "      <td>A</td>\n",
              "      <td>2</td>\n",
              "      <td>0</td>\n",
              "      <td>12</td>\n",
              "      <td>1057</td>\n",
              "    </tr>\n",
              "    <tr>\n",
              "      <th>4</th>\n",
              "      <td>1000002</td>\n",
              "      <td>P00285442</td>\n",
              "      <td>M</td>\n",
              "      <td>55+</td>\n",
              "      <td>16</td>\n",
              "      <td>C</td>\n",
              "      <td>4+</td>\n",
              "      <td>0</td>\n",
              "      <td>8</td>\n",
              "      <td>7969</td>\n",
              "    </tr>\n",
              "  </tbody>\n",
              "</table>\n",
              "</div>\n",
              "    <div class=\"colab-df-buttons\">\n",
              "\n",
              "  <div class=\"colab-df-container\">\n",
              "    <button class=\"colab-df-convert\" onclick=\"convertToInteractive('df-b3aa5458-58ee-44ec-9926-3043aa2b7475')\"\n",
              "            title=\"Convert this dataframe to an interactive table.\"\n",
              "            style=\"display:none;\">\n",
              "\n",
              "  <svg xmlns=\"http://www.w3.org/2000/svg\" height=\"24px\" viewBox=\"0 -960 960 960\">\n",
              "    <path d=\"M120-120v-720h720v720H120Zm60-500h600v-160H180v160Zm220 220h160v-160H400v160Zm0 220h160v-160H400v160ZM180-400h160v-160H180v160Zm440 0h160v-160H620v160ZM180-180h160v-160H180v160Zm440 0h160v-160H620v160Z\"/>\n",
              "  </svg>\n",
              "    </button>\n",
              "\n",
              "  <style>\n",
              "    .colab-df-container {\n",
              "      display:flex;\n",
              "      gap: 12px;\n",
              "    }\n",
              "\n",
              "    .colab-df-convert {\n",
              "      background-color: #E8F0FE;\n",
              "      border: none;\n",
              "      border-radius: 50%;\n",
              "      cursor: pointer;\n",
              "      display: none;\n",
              "      fill: #1967D2;\n",
              "      height: 32px;\n",
              "      padding: 0 0 0 0;\n",
              "      width: 32px;\n",
              "    }\n",
              "\n",
              "    .colab-df-convert:hover {\n",
              "      background-color: #E2EBFA;\n",
              "      box-shadow: 0px 1px 2px rgba(60, 64, 67, 0.3), 0px 1px 3px 1px rgba(60, 64, 67, 0.15);\n",
              "      fill: #174EA6;\n",
              "    }\n",
              "\n",
              "    .colab-df-buttons div {\n",
              "      margin-bottom: 4px;\n",
              "    }\n",
              "\n",
              "    [theme=dark] .colab-df-convert {\n",
              "      background-color: #3B4455;\n",
              "      fill: #D2E3FC;\n",
              "    }\n",
              "\n",
              "    [theme=dark] .colab-df-convert:hover {\n",
              "      background-color: #434B5C;\n",
              "      box-shadow: 0px 1px 3px 1px rgba(0, 0, 0, 0.15);\n",
              "      filter: drop-shadow(0px 1px 2px rgba(0, 0, 0, 0.3));\n",
              "      fill: #FFFFFF;\n",
              "    }\n",
              "  </style>\n",
              "\n",
              "    <script>\n",
              "      const buttonEl =\n",
              "        document.querySelector('#df-b3aa5458-58ee-44ec-9926-3043aa2b7475 button.colab-df-convert');\n",
              "      buttonEl.style.display =\n",
              "        google.colab.kernel.accessAllowed ? 'block' : 'none';\n",
              "\n",
              "      async function convertToInteractive(key) {\n",
              "        const element = document.querySelector('#df-b3aa5458-58ee-44ec-9926-3043aa2b7475');\n",
              "        const dataTable =\n",
              "          await google.colab.kernel.invokeFunction('convertToInteractive',\n",
              "                                                    [key], {});\n",
              "        if (!dataTable) return;\n",
              "\n",
              "        const docLinkHtml = 'Like what you see? Visit the ' +\n",
              "          '<a target=\"_blank\" href=https://colab.research.google.com/notebooks/data_table.ipynb>data table notebook</a>'\n",
              "          + ' to learn more about interactive tables.';\n",
              "        element.innerHTML = '';\n",
              "        dataTable['output_type'] = 'display_data';\n",
              "        await google.colab.output.renderOutput(dataTable, element);\n",
              "        const docLink = document.createElement('div');\n",
              "        docLink.innerHTML = docLinkHtml;\n",
              "        element.appendChild(docLink);\n",
              "      }\n",
              "    </script>\n",
              "  </div>\n",
              "\n",
              "\n",
              "<div id=\"df-5404bd79-aebd-4eba-9547-37f842d0ec10\">\n",
              "  <button class=\"colab-df-quickchart\" onclick=\"quickchart('df-5404bd79-aebd-4eba-9547-37f842d0ec10')\"\n",
              "            title=\"Suggest charts\"\n",
              "            style=\"display:none;\">\n",
              "\n",
              "<svg xmlns=\"http://www.w3.org/2000/svg\" height=\"24px\"viewBox=\"0 0 24 24\"\n",
              "     width=\"24px\">\n",
              "    <g>\n",
              "        <path d=\"M19 3H5c-1.1 0-2 .9-2 2v14c0 1.1.9 2 2 2h14c1.1 0 2-.9 2-2V5c0-1.1-.9-2-2-2zM9 17H7v-7h2v7zm4 0h-2V7h2v10zm4 0h-2v-4h2v4z\"/>\n",
              "    </g>\n",
              "</svg>\n",
              "  </button>\n",
              "\n",
              "<style>\n",
              "  .colab-df-quickchart {\n",
              "      --bg-color: #E8F0FE;\n",
              "      --fill-color: #1967D2;\n",
              "      --hover-bg-color: #E2EBFA;\n",
              "      --hover-fill-color: #174EA6;\n",
              "      --disabled-fill-color: #AAA;\n",
              "      --disabled-bg-color: #DDD;\n",
              "  }\n",
              "\n",
              "  [theme=dark] .colab-df-quickchart {\n",
              "      --bg-color: #3B4455;\n",
              "      --fill-color: #D2E3FC;\n",
              "      --hover-bg-color: #434B5C;\n",
              "      --hover-fill-color: #FFFFFF;\n",
              "      --disabled-bg-color: #3B4455;\n",
              "      --disabled-fill-color: #666;\n",
              "  }\n",
              "\n",
              "  .colab-df-quickchart {\n",
              "    background-color: var(--bg-color);\n",
              "    border: none;\n",
              "    border-radius: 50%;\n",
              "    cursor: pointer;\n",
              "    display: none;\n",
              "    fill: var(--fill-color);\n",
              "    height: 32px;\n",
              "    padding: 0;\n",
              "    width: 32px;\n",
              "  }\n",
              "\n",
              "  .colab-df-quickchart:hover {\n",
              "    background-color: var(--hover-bg-color);\n",
              "    box-shadow: 0 1px 2px rgba(60, 64, 67, 0.3), 0 1px 3px 1px rgba(60, 64, 67, 0.15);\n",
              "    fill: var(--button-hover-fill-color);\n",
              "  }\n",
              "\n",
              "  .colab-df-quickchart-complete:disabled,\n",
              "  .colab-df-quickchart-complete:disabled:hover {\n",
              "    background-color: var(--disabled-bg-color);\n",
              "    fill: var(--disabled-fill-color);\n",
              "    box-shadow: none;\n",
              "  }\n",
              "\n",
              "  .colab-df-spinner {\n",
              "    border: 2px solid var(--fill-color);\n",
              "    border-color: transparent;\n",
              "    border-bottom-color: var(--fill-color);\n",
              "    animation:\n",
              "      spin 1s steps(1) infinite;\n",
              "  }\n",
              "\n",
              "  @keyframes spin {\n",
              "    0% {\n",
              "      border-color: transparent;\n",
              "      border-bottom-color: var(--fill-color);\n",
              "      border-left-color: var(--fill-color);\n",
              "    }\n",
              "    20% {\n",
              "      border-color: transparent;\n",
              "      border-left-color: var(--fill-color);\n",
              "      border-top-color: var(--fill-color);\n",
              "    }\n",
              "    30% {\n",
              "      border-color: transparent;\n",
              "      border-left-color: var(--fill-color);\n",
              "      border-top-color: var(--fill-color);\n",
              "      border-right-color: var(--fill-color);\n",
              "    }\n",
              "    40% {\n",
              "      border-color: transparent;\n",
              "      border-right-color: var(--fill-color);\n",
              "      border-top-color: var(--fill-color);\n",
              "    }\n",
              "    60% {\n",
              "      border-color: transparent;\n",
              "      border-right-color: var(--fill-color);\n",
              "    }\n",
              "    80% {\n",
              "      border-color: transparent;\n",
              "      border-right-color: var(--fill-color);\n",
              "      border-bottom-color: var(--fill-color);\n",
              "    }\n",
              "    90% {\n",
              "      border-color: transparent;\n",
              "      border-bottom-color: var(--fill-color);\n",
              "    }\n",
              "  }\n",
              "</style>\n",
              "\n",
              "  <script>\n",
              "    async function quickchart(key) {\n",
              "      const quickchartButtonEl =\n",
              "        document.querySelector('#' + key + ' button');\n",
              "      quickchartButtonEl.disabled = true;  // To prevent multiple clicks.\n",
              "      quickchartButtonEl.classList.add('colab-df-spinner');\n",
              "      try {\n",
              "        const charts = await google.colab.kernel.invokeFunction(\n",
              "            'suggestCharts', [key], {});\n",
              "      } catch (error) {\n",
              "        console.error('Error during call to suggestCharts:', error);\n",
              "      }\n",
              "      quickchartButtonEl.classList.remove('colab-df-spinner');\n",
              "      quickchartButtonEl.classList.add('colab-df-quickchart-complete');\n",
              "    }\n",
              "    (() => {\n",
              "      let quickchartButtonEl =\n",
              "        document.querySelector('#df-5404bd79-aebd-4eba-9547-37f842d0ec10 button');\n",
              "      quickchartButtonEl.style.display =\n",
              "        google.colab.kernel.accessAllowed ? 'block' : 'none';\n",
              "    })();\n",
              "  </script>\n",
              "</div>\n",
              "\n",
              "    </div>\n",
              "  </div>\n"
            ],
            "application/vnd.google.colaboratory.intrinsic+json": {
              "type": "dataframe",
              "variable_name": "df"
            }
          },
          "metadata": {},
          "execution_count": 53
        }
      ],
      "source": [
        "df.head()"
      ]
    },
    {
      "cell_type": "code",
      "execution_count": null,
      "metadata": {
        "colab": {
          "base_uri": "https://localhost:8080/"
        },
        "id": "CUpePJOPOKVg",
        "outputId": "4c7c1413-4e0f-4086-d706-d894b842dfc7"
      },
      "outputs": [
        {
          "output_type": "execute_result",
          "data": {
            "text/plain": [
              "Product_ID    3612\n",
              "User_ID       5891\n",
              "dtype: int64"
            ]
          },
          "metadata": {},
          "execution_count": 5
        }
      ],
      "source": [
        "df[['Product_ID','User_ID']].nunique()"
      ]
    },
    {
      "cell_type": "code",
      "execution_count": null,
      "metadata": {
        "colab": {
          "base_uri": "https://localhost:8080/"
        },
        "id": "s_MJ6UHSmqhI",
        "outputId": "fb8ce88a-f182-4606-a220-0becdc89dbb0"
      },
      "outputs": [
        {
          "output_type": "execute_result",
          "data": {
            "text/plain": [
              "(500863, 10)"
            ]
          },
          "metadata": {},
          "execution_count": 4
        }
      ],
      "source": [
        "df.shape"
      ]
    },
    {
      "cell_type": "markdown",
      "source": [
        "**Observations**\n",
        "* The dataset has 500863 rows and 10 columns"
      ],
      "metadata": {
        "id": "MKuUj4XfM0Vy"
      }
    },
    {
      "cell_type": "markdown",
      "source": [
        "**Data Cleaning**"
      ],
      "metadata": {
        "id": "E6zgKyB1NDer"
      }
    },
    {
      "cell_type": "code",
      "execution_count": null,
      "metadata": {
        "colab": {
          "base_uri": "https://localhost:8080/"
        },
        "id": "30aO3z2aOghx",
        "outputId": "6ccc4b67-e43e-4173-a9e2-9387eec7fbe3"
      },
      "outputs": [
        {
          "data": {
            "text/plain": [
              "User_ID                       0\n",
              "Product_ID                    0\n",
              "Gender                        0\n",
              "Age                           0\n",
              "Occupation                    0\n",
              "City_Category                 0\n",
              "Stay_In_Current_City_Years    0\n",
              "Marital_Status                0\n",
              "Product_Category              0\n",
              "Purchase                      0\n",
              "dtype: int64"
            ]
          },
          "execution_count": 6,
          "metadata": {},
          "output_type": "execute_result"
        }
      ],
      "source": [
        "df.isnull().sum()"
      ]
    },
    {
      "cell_type": "code",
      "source": [
        "df['Marital_Status'].replace(0,'Single',inplace=True)\n",
        "df['Marital_Status'].replace(1,'Married',inplace=True)"
      ],
      "metadata": {
        "id": "tWajSvvuOE6a"
      },
      "execution_count": null,
      "outputs": []
    },
    {
      "cell_type": "code",
      "source": [
        "df['Marital_Status'].replace(0,'Single',inplace=True)\n",
        "df['Marital_Status'].replace(1,'Married',inplace=True)"
      ],
      "metadata": {
        "id": "pRbey-G2dZHt"
      },
      "execution_count": null,
      "outputs": []
    },
    {
      "cell_type": "markdown",
      "source": [
        "**Observations**\n",
        "* The dataset does not have any null values\n",
        "* We are changing Marital status column for easy calculations"
      ],
      "metadata": {
        "id": "z09oHIFnNV7O"
      }
    },
    {
      "cell_type": "markdown",
      "metadata": {
        "id": "PeHVkA3CO5eH"
      },
      "source": [
        "**Summary of the data**"
      ]
    },
    {
      "cell_type": "code",
      "execution_count": null,
      "metadata": {
        "colab": {
          "base_uri": "https://localhost:8080/"
        },
        "id": "V6DchqOSPT6w",
        "outputId": "e6e951b5-89d5-44cb-c7c3-3b769d098d5c"
      },
      "outputs": [
        {
          "name": "stdout",
          "output_type": "stream",
          "text": [
            "<class 'pandas.core.frame.DataFrame'>\n",
            "RangeIndex: 550068 entries, 0 to 550067\n",
            "Data columns (total 10 columns):\n",
            " #   Column                      Non-Null Count   Dtype \n",
            "---  ------                      --------------   ----- \n",
            " 0   User_ID                     550068 non-null  int64 \n",
            " 1   Product_ID                  550068 non-null  object\n",
            " 2   Gender                      550068 non-null  object\n",
            " 3   Age                         550068 non-null  object\n",
            " 4   Occupation                  550068 non-null  int64 \n",
            " 5   City_Category               550068 non-null  object\n",
            " 6   Stay_In_Current_City_Years  550068 non-null  object\n",
            " 7   Marital_Status              550068 non-null  int64 \n",
            " 8   Product_Category            550068 non-null  int64 \n",
            " 9   Purchase                    550068 non-null  int64 \n",
            "dtypes: int64(5), object(5)\n",
            "memory usage: 42.0+ MB\n"
          ]
        }
      ],
      "source": [
        "df.info()"
      ]
    },
    {
      "cell_type": "code",
      "execution_count": null,
      "metadata": {
        "colab": {
          "base_uri": "https://localhost:8080/",
          "height": 300
        },
        "id": "eD3A5IVePfbR",
        "outputId": "8c71d9de-cd57-4b60-85e3-d72c8b99b152"
      },
      "outputs": [
        {
          "data": {
            "application/vnd.google.colaboratory.intrinsic+json": {
              "summary": "{\n  \"name\": \"df\",\n  \"rows\": 8,\n  \"fields\": [\n    {\n      \"column\": \"User_ID\",\n      \"properties\": {\n        \"dtype\": \"number\",\n        \"std\": 367117.89753373514,\n        \"min\": 1727.5915855305516,\n        \"max\": 1006040.0,\n        \"num_unique_values\": 8,\n        \"samples\": [\n          1003028.8424013031,\n          1003077.0,\n          550068.0\n        ],\n        \"semantic_type\": \"\",\n        \"description\": \"\"\n      }\n    },\n    {\n      \"column\": \"Occupation\",\n      \"properties\": {\n        \"dtype\": \"number\",\n        \"std\": 194475.49735336297,\n        \"min\": 0.0,\n        \"max\": 550068.0,\n        \"num_unique_values\": 8,\n        \"samples\": [\n          8.076706879876669,\n          7.0,\n          550068.0\n        ],\n        \"semantic_type\": \"\",\n        \"description\": \"\"\n      }\n    },\n    {\n      \"column\": \"Marital_Status\",\n      \"properties\": {\n        \"dtype\": \"number\",\n        \"std\": 194478.25991330715,\n        \"min\": 0.0,\n        \"max\": 550068.0,\n        \"num_unique_values\": 5,\n        \"samples\": [\n          0.40965298835780306,\n          1.0,\n          0.49177012631733\n        ],\n        \"semantic_type\": \"\",\n        \"description\": \"\"\n      }\n    },\n    {\n      \"column\": \"Product_Category\",\n      \"properties\": {\n        \"dtype\": \"number\",\n        \"std\": 194476.16701795228,\n        \"min\": 1.0,\n        \"max\": 550068.0,\n        \"num_unique_values\": 7,\n        \"samples\": [\n          550068.0,\n          5.404270017525106,\n          8.0\n        ],\n        \"semantic_type\": \"\",\n        \"description\": \"\"\n      }\n    },\n    {\n      \"column\": \"Purchase\",\n      \"properties\": {\n        \"dtype\": \"number\",\n        \"std\": 191363.80903912007,\n        \"min\": 12.0,\n        \"max\": 550068.0,\n        \"num_unique_values\": 8,\n        \"samples\": [\n          9263.968712959126,\n          8047.0,\n          550068.0\n        ],\n        \"semantic_type\": \"\",\n        \"description\": \"\"\n      }\n    }\n  ]\n}",
              "type": "dataframe"
            },
            "text/html": [
              "\n",
              "  <div id=\"df-e44b291e-aa28-4546-b813-5c9b09564db0\" class=\"colab-df-container\">\n",
              "    <div>\n",
              "<style scoped>\n",
              "    .dataframe tbody tr th:only-of-type {\n",
              "        vertical-align: middle;\n",
              "    }\n",
              "\n",
              "    .dataframe tbody tr th {\n",
              "        vertical-align: top;\n",
              "    }\n",
              "\n",
              "    .dataframe thead th {\n",
              "        text-align: right;\n",
              "    }\n",
              "</style>\n",
              "<table border=\"1\" class=\"dataframe\">\n",
              "  <thead>\n",
              "    <tr style=\"text-align: right;\">\n",
              "      <th></th>\n",
              "      <th>User_ID</th>\n",
              "      <th>Occupation</th>\n",
              "      <th>Marital_Status</th>\n",
              "      <th>Product_Category</th>\n",
              "      <th>Purchase</th>\n",
              "    </tr>\n",
              "  </thead>\n",
              "  <tbody>\n",
              "    <tr>\n",
              "      <th>count</th>\n",
              "      <td>5.500680e+05</td>\n",
              "      <td>550068.000000</td>\n",
              "      <td>550068.000000</td>\n",
              "      <td>550068.000000</td>\n",
              "      <td>550068.000000</td>\n",
              "    </tr>\n",
              "    <tr>\n",
              "      <th>mean</th>\n",
              "      <td>1.003029e+06</td>\n",
              "      <td>8.076707</td>\n",
              "      <td>0.409653</td>\n",
              "      <td>5.404270</td>\n",
              "      <td>9263.968713</td>\n",
              "    </tr>\n",
              "    <tr>\n",
              "      <th>std</th>\n",
              "      <td>1.727592e+03</td>\n",
              "      <td>6.522660</td>\n",
              "      <td>0.491770</td>\n",
              "      <td>3.936211</td>\n",
              "      <td>5023.065394</td>\n",
              "    </tr>\n",
              "    <tr>\n",
              "      <th>min</th>\n",
              "      <td>1.000001e+06</td>\n",
              "      <td>0.000000</td>\n",
              "      <td>0.000000</td>\n",
              "      <td>1.000000</td>\n",
              "      <td>12.000000</td>\n",
              "    </tr>\n",
              "    <tr>\n",
              "      <th>25%</th>\n",
              "      <td>1.001516e+06</td>\n",
              "      <td>2.000000</td>\n",
              "      <td>0.000000</td>\n",
              "      <td>1.000000</td>\n",
              "      <td>5823.000000</td>\n",
              "    </tr>\n",
              "    <tr>\n",
              "      <th>50%</th>\n",
              "      <td>1.003077e+06</td>\n",
              "      <td>7.000000</td>\n",
              "      <td>0.000000</td>\n",
              "      <td>5.000000</td>\n",
              "      <td>8047.000000</td>\n",
              "    </tr>\n",
              "    <tr>\n",
              "      <th>75%</th>\n",
              "      <td>1.004478e+06</td>\n",
              "      <td>14.000000</td>\n",
              "      <td>1.000000</td>\n",
              "      <td>8.000000</td>\n",
              "      <td>12054.000000</td>\n",
              "    </tr>\n",
              "    <tr>\n",
              "      <th>max</th>\n",
              "      <td>1.006040e+06</td>\n",
              "      <td>20.000000</td>\n",
              "      <td>1.000000</td>\n",
              "      <td>20.000000</td>\n",
              "      <td>23961.000000</td>\n",
              "    </tr>\n",
              "  </tbody>\n",
              "</table>\n",
              "</div>\n",
              "    <div class=\"colab-df-buttons\">\n",
              "\n",
              "  <div class=\"colab-df-container\">\n",
              "    <button class=\"colab-df-convert\" onclick=\"convertToInteractive('df-e44b291e-aa28-4546-b813-5c9b09564db0')\"\n",
              "            title=\"Convert this dataframe to an interactive table.\"\n",
              "            style=\"display:none;\">\n",
              "\n",
              "  <svg xmlns=\"http://www.w3.org/2000/svg\" height=\"24px\" viewBox=\"0 -960 960 960\">\n",
              "    <path d=\"M120-120v-720h720v720H120Zm60-500h600v-160H180v160Zm220 220h160v-160H400v160Zm0 220h160v-160H400v160ZM180-400h160v-160H180v160Zm440 0h160v-160H620v160ZM180-180h160v-160H180v160Zm440 0h160v-160H620v160Z\"/>\n",
              "  </svg>\n",
              "    </button>\n",
              "\n",
              "  <style>\n",
              "    .colab-df-container {\n",
              "      display:flex;\n",
              "      gap: 12px;\n",
              "    }\n",
              "\n",
              "    .colab-df-convert {\n",
              "      background-color: #E8F0FE;\n",
              "      border: none;\n",
              "      border-radius: 50%;\n",
              "      cursor: pointer;\n",
              "      display: none;\n",
              "      fill: #1967D2;\n",
              "      height: 32px;\n",
              "      padding: 0 0 0 0;\n",
              "      width: 32px;\n",
              "    }\n",
              "\n",
              "    .colab-df-convert:hover {\n",
              "      background-color: #E2EBFA;\n",
              "      box-shadow: 0px 1px 2px rgba(60, 64, 67, 0.3), 0px 1px 3px 1px rgba(60, 64, 67, 0.15);\n",
              "      fill: #174EA6;\n",
              "    }\n",
              "\n",
              "    .colab-df-buttons div {\n",
              "      margin-bottom: 4px;\n",
              "    }\n",
              "\n",
              "    [theme=dark] .colab-df-convert {\n",
              "      background-color: #3B4455;\n",
              "      fill: #D2E3FC;\n",
              "    }\n",
              "\n",
              "    [theme=dark] .colab-df-convert:hover {\n",
              "      background-color: #434B5C;\n",
              "      box-shadow: 0px 1px 3px 1px rgba(0, 0, 0, 0.15);\n",
              "      filter: drop-shadow(0px 1px 2px rgba(0, 0, 0, 0.3));\n",
              "      fill: #FFFFFF;\n",
              "    }\n",
              "  </style>\n",
              "\n",
              "    <script>\n",
              "      const buttonEl =\n",
              "        document.querySelector('#df-e44b291e-aa28-4546-b813-5c9b09564db0 button.colab-df-convert');\n",
              "      buttonEl.style.display =\n",
              "        google.colab.kernel.accessAllowed ? 'block' : 'none';\n",
              "\n",
              "      async function convertToInteractive(key) {\n",
              "        const element = document.querySelector('#df-e44b291e-aa28-4546-b813-5c9b09564db0');\n",
              "        const dataTable =\n",
              "          await google.colab.kernel.invokeFunction('convertToInteractive',\n",
              "                                                    [key], {});\n",
              "        if (!dataTable) return;\n",
              "\n",
              "        const docLinkHtml = 'Like what you see? Visit the ' +\n",
              "          '<a target=\"_blank\" href=https://colab.research.google.com/notebooks/data_table.ipynb>data table notebook</a>'\n",
              "          + ' to learn more about interactive tables.';\n",
              "        element.innerHTML = '';\n",
              "        dataTable['output_type'] = 'display_data';\n",
              "        await google.colab.output.renderOutput(dataTable, element);\n",
              "        const docLink = document.createElement('div');\n",
              "        docLink.innerHTML = docLinkHtml;\n",
              "        element.appendChild(docLink);\n",
              "      }\n",
              "    </script>\n",
              "  </div>\n",
              "\n",
              "\n",
              "<div id=\"df-804c9324-9740-4e5a-ace6-8fdbeae2bde9\">\n",
              "  <button class=\"colab-df-quickchart\" onclick=\"quickchart('df-804c9324-9740-4e5a-ace6-8fdbeae2bde9')\"\n",
              "            title=\"Suggest charts\"\n",
              "            style=\"display:none;\">\n",
              "\n",
              "<svg xmlns=\"http://www.w3.org/2000/svg\" height=\"24px\"viewBox=\"0 0 24 24\"\n",
              "     width=\"24px\">\n",
              "    <g>\n",
              "        <path d=\"M19 3H5c-1.1 0-2 .9-2 2v14c0 1.1.9 2 2 2h14c1.1 0 2-.9 2-2V5c0-1.1-.9-2-2-2zM9 17H7v-7h2v7zm4 0h-2V7h2v10zm4 0h-2v-4h2v4z\"/>\n",
              "    </g>\n",
              "</svg>\n",
              "  </button>\n",
              "\n",
              "<style>\n",
              "  .colab-df-quickchart {\n",
              "      --bg-color: #E8F0FE;\n",
              "      --fill-color: #1967D2;\n",
              "      --hover-bg-color: #E2EBFA;\n",
              "      --hover-fill-color: #174EA6;\n",
              "      --disabled-fill-color: #AAA;\n",
              "      --disabled-bg-color: #DDD;\n",
              "  }\n",
              "\n",
              "  [theme=dark] .colab-df-quickchart {\n",
              "      --bg-color: #3B4455;\n",
              "      --fill-color: #D2E3FC;\n",
              "      --hover-bg-color: #434B5C;\n",
              "      --hover-fill-color: #FFFFFF;\n",
              "      --disabled-bg-color: #3B4455;\n",
              "      --disabled-fill-color: #666;\n",
              "  }\n",
              "\n",
              "  .colab-df-quickchart {\n",
              "    background-color: var(--bg-color);\n",
              "    border: none;\n",
              "    border-radius: 50%;\n",
              "    cursor: pointer;\n",
              "    display: none;\n",
              "    fill: var(--fill-color);\n",
              "    height: 32px;\n",
              "    padding: 0;\n",
              "    width: 32px;\n",
              "  }\n",
              "\n",
              "  .colab-df-quickchart:hover {\n",
              "    background-color: var(--hover-bg-color);\n",
              "    box-shadow: 0 1px 2px rgba(60, 64, 67, 0.3), 0 1px 3px 1px rgba(60, 64, 67, 0.15);\n",
              "    fill: var(--button-hover-fill-color);\n",
              "  }\n",
              "\n",
              "  .colab-df-quickchart-complete:disabled,\n",
              "  .colab-df-quickchart-complete:disabled:hover {\n",
              "    background-color: var(--disabled-bg-color);\n",
              "    fill: var(--disabled-fill-color);\n",
              "    box-shadow: none;\n",
              "  }\n",
              "\n",
              "  .colab-df-spinner {\n",
              "    border: 2px solid var(--fill-color);\n",
              "    border-color: transparent;\n",
              "    border-bottom-color: var(--fill-color);\n",
              "    animation:\n",
              "      spin 1s steps(1) infinite;\n",
              "  }\n",
              "\n",
              "  @keyframes spin {\n",
              "    0% {\n",
              "      border-color: transparent;\n",
              "      border-bottom-color: var(--fill-color);\n",
              "      border-left-color: var(--fill-color);\n",
              "    }\n",
              "    20% {\n",
              "      border-color: transparent;\n",
              "      border-left-color: var(--fill-color);\n",
              "      border-top-color: var(--fill-color);\n",
              "    }\n",
              "    30% {\n",
              "      border-color: transparent;\n",
              "      border-left-color: var(--fill-color);\n",
              "      border-top-color: var(--fill-color);\n",
              "      border-right-color: var(--fill-color);\n",
              "    }\n",
              "    40% {\n",
              "      border-color: transparent;\n",
              "      border-right-color: var(--fill-color);\n",
              "      border-top-color: var(--fill-color);\n",
              "    }\n",
              "    60% {\n",
              "      border-color: transparent;\n",
              "      border-right-color: var(--fill-color);\n",
              "    }\n",
              "    80% {\n",
              "      border-color: transparent;\n",
              "      border-right-color: var(--fill-color);\n",
              "      border-bottom-color: var(--fill-color);\n",
              "    }\n",
              "    90% {\n",
              "      border-color: transparent;\n",
              "      border-bottom-color: var(--fill-color);\n",
              "    }\n",
              "  }\n",
              "</style>\n",
              "\n",
              "  <script>\n",
              "    async function quickchart(key) {\n",
              "      const quickchartButtonEl =\n",
              "        document.querySelector('#' + key + ' button');\n",
              "      quickchartButtonEl.disabled = true;  // To prevent multiple clicks.\n",
              "      quickchartButtonEl.classList.add('colab-df-spinner');\n",
              "      try {\n",
              "        const charts = await google.colab.kernel.invokeFunction(\n",
              "            'suggestCharts', [key], {});\n",
              "      } catch (error) {\n",
              "        console.error('Error during call to suggestCharts:', error);\n",
              "      }\n",
              "      quickchartButtonEl.classList.remove('colab-df-spinner');\n",
              "      quickchartButtonEl.classList.add('colab-df-quickchart-complete');\n",
              "    }\n",
              "    (() => {\n",
              "      let quickchartButtonEl =\n",
              "        document.querySelector('#df-804c9324-9740-4e5a-ace6-8fdbeae2bde9 button');\n",
              "      quickchartButtonEl.style.display =\n",
              "        google.colab.kernel.accessAllowed ? 'block' : 'none';\n",
              "    })();\n",
              "  </script>\n",
              "</div>\n",
              "\n",
              "    </div>\n",
              "  </div>\n"
            ],
            "text/plain": [
              "            User_ID     Occupation  Marital_Status  Product_Category  \\\n",
              "count  5.500680e+05  550068.000000   550068.000000     550068.000000   \n",
              "mean   1.003029e+06       8.076707        0.409653          5.404270   \n",
              "std    1.727592e+03       6.522660        0.491770          3.936211   \n",
              "min    1.000001e+06       0.000000        0.000000          1.000000   \n",
              "25%    1.001516e+06       2.000000        0.000000          1.000000   \n",
              "50%    1.003077e+06       7.000000        0.000000          5.000000   \n",
              "75%    1.004478e+06      14.000000        1.000000          8.000000   \n",
              "max    1.006040e+06      20.000000        1.000000         20.000000   \n",
              "\n",
              "            Purchase  \n",
              "count  550068.000000  \n",
              "mean     9263.968713  \n",
              "std      5023.065394  \n",
              "min        12.000000  \n",
              "25%      5823.000000  \n",
              "50%      8047.000000  \n",
              "75%     12054.000000  \n",
              "max     23961.000000  "
            ]
          },
          "execution_count": 9,
          "metadata": {},
          "output_type": "execute_result"
        }
      ],
      "source": [
        "df.describe()"
      ]
    },
    {
      "cell_type": "code",
      "execution_count": null,
      "metadata": {
        "colab": {
          "base_uri": "https://localhost:8080/",
          "height": 174
        },
        "id": "u62wOKBLPjkk",
        "outputId": "7e62965c-64b2-4e3f-9dbc-74739e28d6db"
      },
      "outputs": [
        {
          "data": {
            "application/vnd.google.colaboratory.intrinsic+json": {
              "summary": "{\n  \"name\": \"df\",\n  \"rows\": 4,\n  \"fields\": [\n    {\n      \"column\": \"Product_ID\",\n      \"properties\": {\n        \"dtype\": \"string\",\n        \"num_unique_values\": 4,\n        \"samples\": [\n          3631,\n          \"1880\",\n          \"550068\"\n        ],\n        \"semantic_type\": \"\",\n        \"description\": \"\"\n      }\n    },\n    {\n      \"column\": \"Gender\",\n      \"properties\": {\n        \"dtype\": \"string\",\n        \"num_unique_values\": 4,\n        \"samples\": [\n          2,\n          \"414259\",\n          \"550068\"\n        ],\n        \"semantic_type\": \"\",\n        \"description\": \"\"\n      }\n    },\n    {\n      \"column\": \"Age\",\n      \"properties\": {\n        \"dtype\": \"string\",\n        \"num_unique_values\": 4,\n        \"samples\": [\n          7,\n          \"219587\",\n          \"550068\"\n        ],\n        \"semantic_type\": \"\",\n        \"description\": \"\"\n      }\n    },\n    {\n      \"column\": \"City_Category\",\n      \"properties\": {\n        \"dtype\": \"string\",\n        \"num_unique_values\": 4,\n        \"samples\": [\n          3,\n          \"231173\",\n          \"550068\"\n        ],\n        \"semantic_type\": \"\",\n        \"description\": \"\"\n      }\n    },\n    {\n      \"column\": \"Stay_In_Current_City_Years\",\n      \"properties\": {\n        \"dtype\": \"string\",\n        \"num_unique_values\": 4,\n        \"samples\": [\n          5,\n          \"193821\",\n          \"550068\"\n        ],\n        \"semantic_type\": \"\",\n        \"description\": \"\"\n      }\n    }\n  ]\n}",
              "type": "dataframe"
            },
            "text/html": [
              "\n",
              "  <div id=\"df-efe4c0a9-8508-4cf3-97a8-c88157e2d424\" class=\"colab-df-container\">\n",
              "    <div>\n",
              "<style scoped>\n",
              "    .dataframe tbody tr th:only-of-type {\n",
              "        vertical-align: middle;\n",
              "    }\n",
              "\n",
              "    .dataframe tbody tr th {\n",
              "        vertical-align: top;\n",
              "    }\n",
              "\n",
              "    .dataframe thead th {\n",
              "        text-align: right;\n",
              "    }\n",
              "</style>\n",
              "<table border=\"1\" class=\"dataframe\">\n",
              "  <thead>\n",
              "    <tr style=\"text-align: right;\">\n",
              "      <th></th>\n",
              "      <th>Product_ID</th>\n",
              "      <th>Gender</th>\n",
              "      <th>Age</th>\n",
              "      <th>City_Category</th>\n",
              "      <th>Stay_In_Current_City_Years</th>\n",
              "    </tr>\n",
              "  </thead>\n",
              "  <tbody>\n",
              "    <tr>\n",
              "      <th>count</th>\n",
              "      <td>550068</td>\n",
              "      <td>550068</td>\n",
              "      <td>550068</td>\n",
              "      <td>550068</td>\n",
              "      <td>550068</td>\n",
              "    </tr>\n",
              "    <tr>\n",
              "      <th>unique</th>\n",
              "      <td>3631</td>\n",
              "      <td>2</td>\n",
              "      <td>7</td>\n",
              "      <td>3</td>\n",
              "      <td>5</td>\n",
              "    </tr>\n",
              "    <tr>\n",
              "      <th>top</th>\n",
              "      <td>P00265242</td>\n",
              "      <td>M</td>\n",
              "      <td>26-35</td>\n",
              "      <td>B</td>\n",
              "      <td>1</td>\n",
              "    </tr>\n",
              "    <tr>\n",
              "      <th>freq</th>\n",
              "      <td>1880</td>\n",
              "      <td>414259</td>\n",
              "      <td>219587</td>\n",
              "      <td>231173</td>\n",
              "      <td>193821</td>\n",
              "    </tr>\n",
              "  </tbody>\n",
              "</table>\n",
              "</div>\n",
              "    <div class=\"colab-df-buttons\">\n",
              "\n",
              "  <div class=\"colab-df-container\">\n",
              "    <button class=\"colab-df-convert\" onclick=\"convertToInteractive('df-efe4c0a9-8508-4cf3-97a8-c88157e2d424')\"\n",
              "            title=\"Convert this dataframe to an interactive table.\"\n",
              "            style=\"display:none;\">\n",
              "\n",
              "  <svg xmlns=\"http://www.w3.org/2000/svg\" height=\"24px\" viewBox=\"0 -960 960 960\">\n",
              "    <path d=\"M120-120v-720h720v720H120Zm60-500h600v-160H180v160Zm220 220h160v-160H400v160Zm0 220h160v-160H400v160ZM180-400h160v-160H180v160Zm440 0h160v-160H620v160ZM180-180h160v-160H180v160Zm440 0h160v-160H620v160Z\"/>\n",
              "  </svg>\n",
              "    </button>\n",
              "\n",
              "  <style>\n",
              "    .colab-df-container {\n",
              "      display:flex;\n",
              "      gap: 12px;\n",
              "    }\n",
              "\n",
              "    .colab-df-convert {\n",
              "      background-color: #E8F0FE;\n",
              "      border: none;\n",
              "      border-radius: 50%;\n",
              "      cursor: pointer;\n",
              "      display: none;\n",
              "      fill: #1967D2;\n",
              "      height: 32px;\n",
              "      padding: 0 0 0 0;\n",
              "      width: 32px;\n",
              "    }\n",
              "\n",
              "    .colab-df-convert:hover {\n",
              "      background-color: #E2EBFA;\n",
              "      box-shadow: 0px 1px 2px rgba(60, 64, 67, 0.3), 0px 1px 3px 1px rgba(60, 64, 67, 0.15);\n",
              "      fill: #174EA6;\n",
              "    }\n",
              "\n",
              "    .colab-df-buttons div {\n",
              "      margin-bottom: 4px;\n",
              "    }\n",
              "\n",
              "    [theme=dark] .colab-df-convert {\n",
              "      background-color: #3B4455;\n",
              "      fill: #D2E3FC;\n",
              "    }\n",
              "\n",
              "    [theme=dark] .colab-df-convert:hover {\n",
              "      background-color: #434B5C;\n",
              "      box-shadow: 0px 1px 3px 1px rgba(0, 0, 0, 0.15);\n",
              "      filter: drop-shadow(0px 1px 2px rgba(0, 0, 0, 0.3));\n",
              "      fill: #FFFFFF;\n",
              "    }\n",
              "  </style>\n",
              "\n",
              "    <script>\n",
              "      const buttonEl =\n",
              "        document.querySelector('#df-efe4c0a9-8508-4cf3-97a8-c88157e2d424 button.colab-df-convert');\n",
              "      buttonEl.style.display =\n",
              "        google.colab.kernel.accessAllowed ? 'block' : 'none';\n",
              "\n",
              "      async function convertToInteractive(key) {\n",
              "        const element = document.querySelector('#df-efe4c0a9-8508-4cf3-97a8-c88157e2d424');\n",
              "        const dataTable =\n",
              "          await google.colab.kernel.invokeFunction('convertToInteractive',\n",
              "                                                    [key], {});\n",
              "        if (!dataTable) return;\n",
              "\n",
              "        const docLinkHtml = 'Like what you see? Visit the ' +\n",
              "          '<a target=\"_blank\" href=https://colab.research.google.com/notebooks/data_table.ipynb>data table notebook</a>'\n",
              "          + ' to learn more about interactive tables.';\n",
              "        element.innerHTML = '';\n",
              "        dataTable['output_type'] = 'display_data';\n",
              "        await google.colab.output.renderOutput(dataTable, element);\n",
              "        const docLink = document.createElement('div');\n",
              "        docLink.innerHTML = docLinkHtml;\n",
              "        element.appendChild(docLink);\n",
              "      }\n",
              "    </script>\n",
              "  </div>\n",
              "\n",
              "\n",
              "<div id=\"df-69194609-432d-4823-a0bf-3e046025af62\">\n",
              "  <button class=\"colab-df-quickchart\" onclick=\"quickchart('df-69194609-432d-4823-a0bf-3e046025af62')\"\n",
              "            title=\"Suggest charts\"\n",
              "            style=\"display:none;\">\n",
              "\n",
              "<svg xmlns=\"http://www.w3.org/2000/svg\" height=\"24px\"viewBox=\"0 0 24 24\"\n",
              "     width=\"24px\">\n",
              "    <g>\n",
              "        <path d=\"M19 3H5c-1.1 0-2 .9-2 2v14c0 1.1.9 2 2 2h14c1.1 0 2-.9 2-2V5c0-1.1-.9-2-2-2zM9 17H7v-7h2v7zm4 0h-2V7h2v10zm4 0h-2v-4h2v4z\"/>\n",
              "    </g>\n",
              "</svg>\n",
              "  </button>\n",
              "\n",
              "<style>\n",
              "  .colab-df-quickchart {\n",
              "      --bg-color: #E8F0FE;\n",
              "      --fill-color: #1967D2;\n",
              "      --hover-bg-color: #E2EBFA;\n",
              "      --hover-fill-color: #174EA6;\n",
              "      --disabled-fill-color: #AAA;\n",
              "      --disabled-bg-color: #DDD;\n",
              "  }\n",
              "\n",
              "  [theme=dark] .colab-df-quickchart {\n",
              "      --bg-color: #3B4455;\n",
              "      --fill-color: #D2E3FC;\n",
              "      --hover-bg-color: #434B5C;\n",
              "      --hover-fill-color: #FFFFFF;\n",
              "      --disabled-bg-color: #3B4455;\n",
              "      --disabled-fill-color: #666;\n",
              "  }\n",
              "\n",
              "  .colab-df-quickchart {\n",
              "    background-color: var(--bg-color);\n",
              "    border: none;\n",
              "    border-radius: 50%;\n",
              "    cursor: pointer;\n",
              "    display: none;\n",
              "    fill: var(--fill-color);\n",
              "    height: 32px;\n",
              "    padding: 0;\n",
              "    width: 32px;\n",
              "  }\n",
              "\n",
              "  .colab-df-quickchart:hover {\n",
              "    background-color: var(--hover-bg-color);\n",
              "    box-shadow: 0 1px 2px rgba(60, 64, 67, 0.3), 0 1px 3px 1px rgba(60, 64, 67, 0.15);\n",
              "    fill: var(--button-hover-fill-color);\n",
              "  }\n",
              "\n",
              "  .colab-df-quickchart-complete:disabled,\n",
              "  .colab-df-quickchart-complete:disabled:hover {\n",
              "    background-color: var(--disabled-bg-color);\n",
              "    fill: var(--disabled-fill-color);\n",
              "    box-shadow: none;\n",
              "  }\n",
              "\n",
              "  .colab-df-spinner {\n",
              "    border: 2px solid var(--fill-color);\n",
              "    border-color: transparent;\n",
              "    border-bottom-color: var(--fill-color);\n",
              "    animation:\n",
              "      spin 1s steps(1) infinite;\n",
              "  }\n",
              "\n",
              "  @keyframes spin {\n",
              "    0% {\n",
              "      border-color: transparent;\n",
              "      border-bottom-color: var(--fill-color);\n",
              "      border-left-color: var(--fill-color);\n",
              "    }\n",
              "    20% {\n",
              "      border-color: transparent;\n",
              "      border-left-color: var(--fill-color);\n",
              "      border-top-color: var(--fill-color);\n",
              "    }\n",
              "    30% {\n",
              "      border-color: transparent;\n",
              "      border-left-color: var(--fill-color);\n",
              "      border-top-color: var(--fill-color);\n",
              "      border-right-color: var(--fill-color);\n",
              "    }\n",
              "    40% {\n",
              "      border-color: transparent;\n",
              "      border-right-color: var(--fill-color);\n",
              "      border-top-color: var(--fill-color);\n",
              "    }\n",
              "    60% {\n",
              "      border-color: transparent;\n",
              "      border-right-color: var(--fill-color);\n",
              "    }\n",
              "    80% {\n",
              "      border-color: transparent;\n",
              "      border-right-color: var(--fill-color);\n",
              "      border-bottom-color: var(--fill-color);\n",
              "    }\n",
              "    90% {\n",
              "      border-color: transparent;\n",
              "      border-bottom-color: var(--fill-color);\n",
              "    }\n",
              "  }\n",
              "</style>\n",
              "\n",
              "  <script>\n",
              "    async function quickchart(key) {\n",
              "      const quickchartButtonEl =\n",
              "        document.querySelector('#' + key + ' button');\n",
              "      quickchartButtonEl.disabled = true;  // To prevent multiple clicks.\n",
              "      quickchartButtonEl.classList.add('colab-df-spinner');\n",
              "      try {\n",
              "        const charts = await google.colab.kernel.invokeFunction(\n",
              "            'suggestCharts', [key], {});\n",
              "      } catch (error) {\n",
              "        console.error('Error during call to suggestCharts:', error);\n",
              "      }\n",
              "      quickchartButtonEl.classList.remove('colab-df-spinner');\n",
              "      quickchartButtonEl.classList.add('colab-df-quickchart-complete');\n",
              "    }\n",
              "    (() => {\n",
              "      let quickchartButtonEl =\n",
              "        document.querySelector('#df-69194609-432d-4823-a0bf-3e046025af62 button');\n",
              "      quickchartButtonEl.style.display =\n",
              "        google.colab.kernel.accessAllowed ? 'block' : 'none';\n",
              "    })();\n",
              "  </script>\n",
              "</div>\n",
              "\n",
              "    </div>\n",
              "  </div>\n"
            ],
            "text/plain": [
              "       Product_ID  Gender     Age City_Category Stay_In_Current_City_Years\n",
              "count      550068  550068  550068        550068                     550068\n",
              "unique       3631       2       7             3                          5\n",
              "top     P00265242       M   26-35             B                          1\n",
              "freq         1880  414259  219587        231173                     193821"
            ]
          },
          "execution_count": 10,
          "metadata": {},
          "output_type": "execute_result"
        }
      ],
      "source": [
        "df.describe(include='object')"
      ]
    },
    {
      "cell_type": "code",
      "source": [
        "df['Marital_Status'].value_counts()"
      ],
      "metadata": {
        "colab": {
          "base_uri": "https://localhost:8080/"
        },
        "id": "SPVA8Ph1du4M",
        "outputId": "cc47d8dc-ee0a-44bb-8c98-ab3a978947f1"
      },
      "execution_count": null,
      "outputs": [
        {
          "output_type": "execute_result",
          "data": {
            "text/plain": [
              "Marital_Status\n",
              "Single     324731\n",
              "Married    225337\n",
              "Name: count, dtype: int64"
            ]
          },
          "metadata": {},
          "execution_count": 7
        }
      ]
    },
    {
      "cell_type": "markdown",
      "metadata": {
        "id": "kp52TO8IOp2j"
      },
      "source": [
        "**Unilateral Analysis**"
      ]
    },
    {
      "cell_type": "code",
      "execution_count": null,
      "metadata": {
        "colab": {
          "base_uri": "https://localhost:8080/"
        },
        "id": "fWpv7bC7OoWm",
        "outputId": "febc825a-5fc6-4486-883c-2f1b5aaececd"
      },
      "outputs": [
        {
          "data": {
            "text/plain": [
              "Gender\n",
              "M    414259\n",
              "F    135809\n",
              "Name: count, dtype: int64"
            ]
          },
          "execution_count": 13,
          "metadata": {},
          "output_type": "execute_result"
        }
      ],
      "source": [
        "df['Gender'].value_counts()\n"
      ]
    },
    {
      "cell_type": "code",
      "execution_count": null,
      "metadata": {
        "colab": {
          "base_uri": "https://localhost:8080/"
        },
        "id": "ispkBUVZRp1s",
        "outputId": "5bf015a3-4af1-4a12-f2c8-afa7c6290859"
      },
      "outputs": [
        {
          "data": {
            "text/plain": [
              "Age\n",
              "0-17      15102\n",
              "55+       21504\n",
              "51-55     38501\n",
              "46-50     45701\n",
              "18-25     99660\n",
              "36-45    110013\n",
              "26-35    219587\n",
              "Name: count, dtype: int64"
            ]
          },
          "execution_count": 17,
          "metadata": {},
          "output_type": "execute_result"
        }
      ],
      "source": [
        "df['Age'].value_counts().sort_values()"
      ]
    },
    {
      "cell_type": "code",
      "execution_count": null,
      "metadata": {
        "colab": {
          "base_uri": "https://localhost:8080/"
        },
        "id": "dYqJgpW3SDOd",
        "outputId": "86046f74-6661-46b2-89fb-db874cf171fb"
      },
      "outputs": [
        {
          "data": {
            "text/plain": [
              "City_Category\n",
              "B    231173\n",
              "C    171175\n",
              "A    147720\n",
              "Name: count, dtype: int64"
            ]
          },
          "execution_count": 19,
          "metadata": {},
          "output_type": "execute_result"
        }
      ],
      "source": [
        "df['City_Category'].value_counts()"
      ]
    },
    {
      "cell_type": "code",
      "execution_count": null,
      "metadata": {
        "colab": {
          "base_uri": "https://localhost:8080/"
        },
        "id": "IzygYtqNSUdL",
        "outputId": "618ed0d4-9209-42f1-c47b-f7cb14b01349"
      },
      "outputs": [
        {
          "data": {
            "text/plain": [
              "Marital_Status\n",
              "0    324731\n",
              "1    225337\n",
              "Name: count, dtype: int64"
            ]
          },
          "execution_count": 20,
          "metadata": {},
          "output_type": "execute_result"
        }
      ],
      "source": [
        "df['Marital_Status'].value_counts()"
      ]
    },
    {
      "cell_type": "code",
      "execution_count": null,
      "metadata": {
        "colab": {
          "base_uri": "https://localhost:8080/"
        },
        "id": "E8IUl_QwShFP",
        "outputId": "c6299e64-97ca-4477-fa6b-cc870be854a0"
      },
      "outputs": [
        {
          "data": {
            "text/plain": [
              "Product_Category\n",
              "5     150933\n",
              "1     140378\n",
              "8     113925\n",
              "11     24287\n",
              "2      23864\n",
              "6      20466\n",
              "3      20213\n",
              "4      11753\n",
              "16      9828\n",
              "15      6290\n",
              "13      5549\n",
              "10      5125\n",
              "12      3947\n",
              "7       3721\n",
              "18      3125\n",
              "20      2550\n",
              "19      1603\n",
              "14      1523\n",
              "17       578\n",
              "9        410\n",
              "Name: count, dtype: int64"
            ]
          },
          "execution_count": 21,
          "metadata": {},
          "output_type": "execute_result"
        }
      ],
      "source": [
        "df['Product_Category'].value_counts()"
      ]
    },
    {
      "cell_type": "markdown",
      "source": [
        "**Observations**\n",
        "\n",
        "*There are 7 unique age groups and most of the purchase belongs to age 26-35 group.\n",
        "\n",
        "*There are 3 unique citi categories with category B being the highest.\n",
        "\n",
        "*5 unique values for Stay_in_current_citi_years with 1 being the highest.\n",
        "\n",
        "*The difference between mean and median seems to be significant for purchase that suggests outliers in the data.\n",
        "\n",
        "\n",
        "\n",
        "\n",
        "*Out of 550068 data points, 414259's gender is Male and rest are the female. Male purchase count is much higher than female.\n",
        "\n",
        "*Standard deviation for purchase have significant value which suggests data is more spread out for this attribute."
      ],
      "metadata": {
        "id": "FCJu2W4PPXhx"
      }
    },
    {
      "cell_type": "code",
      "execution_count": null,
      "metadata": {
        "colab": {
          "base_uri": "https://localhost:8080/",
          "height": 605
        },
        "id": "FDo7qL_BTUAj",
        "outputId": "3758bb22-84af-4490-bd24-0577d3e62aa5"
      },
      "outputs": [
        {
          "data": {
            "image/png": "[encoded data removed]",
            "text/plain": [
              "<Figure size 300x200 with 1 Axes>"
            ]
          },
          "metadata": {},
          "output_type": "display_data"
        },
        {
          "data": {
            "image/png": "[encoded data removed]",
            "text/plain": [
              "<Figure size 300x200 with 1 Axes>"
            ]
          },
          "metadata": {},
          "output_type": "display_data"
        },
        {
          "data": {
            "image/png": "[encoded data removed]",
            "text/plain": [
              "<Figure size 300x200 with 1 Axes>"
            ]
          },
          "metadata": {},
          "output_type": "display_data"
        }
      ],
      "source": [
        "#Pie chart Visualization\n",
        "gender_count=df['Gender'].value_counts()\n",
        "marital_status_count=df['Marital_Status'].value_counts()\n",
        "city_category_count=df['City_Category'].value_counts()\n",
        "\n",
        "\n",
        "plt.figure(figsize=(3,2))\n",
        "plt.pie(gender_count,labels=gender_count.index,autopct='%1.1f%%',startangle=60)\n",
        "plt.title('Gender_Distribution')\n",
        "plt.figure(figsize=(3,2))\n",
        "plt.pie(marital_status_count,labels=marital_status_count.index,autopct='%1.1f%%',startangle=60)\n",
        "plt.title('Marital_status')\n",
        "plt.figure(figsize=(3,2))\n",
        "plt.pie(city_category_count,labels=city_category_count.index,autopct='%1.1f%%',startangle=60)\n",
        "plt.title('City_category_distribution')\n",
        "plt.show()"
      ]
    },
    {
      "cell_type": "markdown",
      "source": [
        "**Observations**\n",
        "\n",
        "* Gender Distribution - Data indicates a significant disparity in purchase behavior between males and females during the Black Friday event.\n",
        "* Marital Status - Given that unmarried customers account for a higher percentage of transactions, it may be worthwhile to consider specific marketing campaigns or\n",
        "promotions that appeal to this group.\n",
        "* City Category - City B saw the most number of transactions followed by City C and City A respectively"
      ],
      "metadata": {
        "id": "ju_roAXuP-CS"
      }
    },
    {
      "cell_type": "code",
      "execution_count": null,
      "metadata": {
        "colab": {
          "base_uri": "https://localhost:8080/",
          "height": 333
        },
        "id": "rdDCK4PAZJDo",
        "outputId": "eeaf33b9-53b1-4487-eb46-c10e0c25bf7d"
      },
      "outputs": [
        {
          "data": {
            "image/png": "[encoded data removed]",
            "text/plain": [
              "<Figure size 1600x300 with 3 Axes>"
            ]
          },
          "metadata": {},
          "output_type": "display_data"
        }
      ],
      "source": [
        "#Boxplots\n",
        "fig,axes=plt.subplots(nrows=1,ncols=3,figsize=(16,3))\n",
        "sns.boxplot(x=df['Age'],ax=axes[0])\n",
        "sns.boxplot(x=df['Occupation'],ax=axes[1])\n",
        "sns.boxplot(x=df['Purchase'],ax=axes[2])\n",
        "axes[0].set_title('Age_Distribution')\n",
        "axes[1].set_title('Occupation_Diestribution')\n",
        "axes[2].set_title('Purchase_Distribution')\n",
        "plt.show()\n"
      ]
    },
    {
      "cell_type": "markdown",
      "source": [
        "**Observations**\n",
        "* Majority of customers are in the age group of (26-35) to (36-45)\n",
        "* Majprity of the customers occupation is between 2 and 13\n",
        "* Mostly users shop from 6000-12000"
      ],
      "metadata": {
        "id": "wNAlRlmjQOko"
      }
    },
    {
      "cell_type": "markdown",
      "metadata": {
        "id": "XrmwTxgGvhS1"
      },
      "source": [
        "**3. Data Exploration ( Multi- Varient Analysis)**"
      ]
    },
    {
      "cell_type": "code",
      "execution_count": null,
      "metadata": {
        "colab": {
          "base_uri": "https://localhost:8080/",
          "height": 839
        },
        "id": "Gpp1hSbA6cH5",
        "outputId": "f166669f-96c7-4bb7-da2a-4d7ae84af56c"
      },
      "outputs": [
        {
          "output_type": "stream",
          "name": "stderr",
          "text": [
            "<ipython-input-63-7885897024d2>:5: FutureWarning: \n",
            "\n",
            "Passing `palette` without assigning `hue` is deprecated and will be removed in v0.14.0. Assign the `x` variable to `hue` and set `legend=False` for the same effect.\n",
            "\n",
            "  sns.boxplot(x=df['Gender'], y=df['Purchase'], data=df,palette=palette, ax=axes[0,0])\n",
            "<ipython-input-63-7885897024d2>:5: UserWarning: The palette list has more values (6) than needed (2), which may not be intended.\n",
            "  sns.boxplot(x=df['Gender'], y=df['Purchase'], data=df,palette=palette, ax=axes[0,0])\n",
            "<ipython-input-63-7885897024d2>:6: FutureWarning: \n",
            "\n",
            "Passing `palette` without assigning `hue` is deprecated and will be removed in v0.14.0. Assign the `x` variable to `hue` and set `legend=False` for the same effect.\n",
            "\n",
            "  sns.boxplot(x=df['Age'], y=df['Purchase'], data=df,palette=palette, ax=axes[0,1])\n",
            "<ipython-input-63-7885897024d2>:6: UserWarning: \n",
            "The palette list has fewer values (6) than needed (7) and will cycle, which may produce an uninterpretable plot.\n",
            "  sns.boxplot(x=df['Age'], y=df['Purchase'], data=df,palette=palette, ax=axes[0,1])\n",
            "<ipython-input-63-7885897024d2>:7: FutureWarning: \n",
            "\n",
            "Passing `palette` without assigning `hue` is deprecated and will be removed in v0.14.0. Assign the `x` variable to `hue` and set `legend=False` for the same effect.\n",
            "\n",
            "  sns.boxplot(x=df['City_Category'],y=df['Purchase'],data=df,palette=palette,ax=axes[1,0])\n",
            "<ipython-input-63-7885897024d2>:7: UserWarning: The palette list has more values (6) than needed (3), which may not be intended.\n",
            "  sns.boxplot(x=df['City_Category'],y=df['Purchase'],data=df,palette=palette,ax=axes[1,0])\n",
            "<ipython-input-63-7885897024d2>:8: FutureWarning: \n",
            "\n",
            "Passing `palette` without assigning `hue` is deprecated and will be removed in v0.14.0. Assign the `x` variable to `hue` and set `legend=False` for the same effect.\n",
            "\n",
            "  sns.boxplot(x=df['Marital_Status'], y=df['Purchase'], data=df,palette=palette, ax=axes[1,1])\n",
            "<ipython-input-63-7885897024d2>:8: UserWarning: The palette list has more values (6) than needed (2), which may not be intended.\n",
            "  sns.boxplot(x=df['Marital_Status'], y=df['Purchase'], data=df,palette=palette, ax=axes[1,1])\n"
          ]
        },
        {
          "output_type": "display_data",
          "data": {
            "text/plain": [
              "<Figure size 1000x700 with 4 Axes>"
            ],
            "image/png": "[encoded data removed]"
          },
          "metadata": {}
        }
      ],
      "source": [
        "fig, axes = plt.subplots(nrows=2, ncols=2, figsize=(10,7))\n",
        "palette = [\"#9b59b6\", \"#3498db\", \"#95a5a6\", \"#e74c3c\", \"#34495e\", \"#2ecc71\"]\n",
        "\n",
        "\n",
        "sns.boxplot(x=df['Gender'], y=df['Purchase'], data=df,palette=palette, ax=axes[0,0])\n",
        "sns.boxplot(x=df['Age'], y=df['Purchase'], data=df,palette=palette, ax=axes[0,1])\n",
        "sns.boxplot(x=df['City_Category'],y=df['Purchase'],data=df,palette=palette,ax=axes[1,0])\n",
        "sns.boxplot(x=df['Marital_Status'], y=df['Purchase'], data=df,palette=palette, ax=axes[1,1])\n",
        "\n",
        "axes[0,0].set_title('Gender vs Purchase')\n",
        "axes[0,1].set_title('Age_Group vs Purchase')\n",
        "axes[1,0].set_title('City_Category vs Purchase')\n",
        "axes[1,1].set_title('Marital_Status vs Purchase')\\\n",
        "\n",
        "plt.show()\n",
        "\n",
        "\n",
        "\n",
        "\n",
        "\n",
        "\n"
      ]
    },
    {
      "cell_type": "markdown",
      "source": [
        "**Observations**\n",
        "* The spending behaviour for males and females are similar as we had seen from the above histplot. Males purchasing value are in the little higher range than females.\n",
        "* Among differnt age categories, we see similar purchase behaviour. For all age groups, most of the purchases are of the values between 5k to 12k with all have some outliers.\n",
        "* Similarly for City category, stay in current city years, marital status - we see the users spends mostly in the range of 5k to 12k.\n",
        "\n"
      ],
      "metadata": {
        "id": "1xBn6eivRAta"
      }
    },
    {
      "cell_type": "code",
      "execution_count": null,
      "metadata": {
        "colab": {
          "base_uri": "https://localhost:8080/",
          "height": 892
        },
        "id": "8B0hJBRfar-J",
        "outputId": "ba0ed5a8-6546-406e-a094-392e0ec3dea9"
      },
      "outputs": [
        {
          "name": "stderr",
          "output_type": "stream",
          "text": [
            "<ipython-input-73-18191b09c952>:5: FutureWarning: \n",
            "\n",
            "Passing `palette` without assigning `hue` is deprecated and will be removed in v0.14.0. Assign the `x` variable to `hue` and set `legend=False` for the same effect.\n",
            "\n",
            "  sns.boxplot(x=df['Product_Category'], y=df['Purchase'], data=df,palette=palette, ax=axes[0])\n",
            "<ipython-input-73-18191b09c952>:5: UserWarning: \n",
            "The palette list has fewer values (6) than needed (20) and will cycle, which may produce an uninterpretable plot.\n",
            "  sns.boxplot(x=df['Product_Category'], y=df['Purchase'], data=df,palette=palette, ax=axes[0])\n",
            "<ipython-input-73-18191b09c952>:6: FutureWarning: \n",
            "\n",
            "Passing `palette` without assigning `hue` is deprecated and will be removed in v0.14.0. Assign the `x` variable to `hue` and set `legend=False` for the same effect.\n",
            "\n",
            "  sns.boxplot(x=df['Occupation'], y=df['Purchase'], data=df,palette=palette, ax=axes[1])\n",
            "<ipython-input-73-18191b09c952>:6: UserWarning: \n",
            "The palette list has fewer values (6) than needed (21) and will cycle, which may produce an uninterpretable plot.\n",
            "  sns.boxplot(x=df['Occupation'], y=df['Purchase'], data=df,palette=palette, ax=axes[1])\n"
          ]
        },
        {
          "data": {
            "text/plain": [
              "Text(0.5, 1.0, 'Occupation vs Purchase')"
            ]
          },
          "execution_count": 73,
          "metadata": {},
          "output_type": "execute_result"
        },
        {
          "data": {
            "image/png": "[encoded data removed]",
            "text/plain": [
              "<Figure size 1600x600 with 2 Axes>"
            ]
          },
          "metadata": {},
          "output_type": "display_data"
        }
      ],
      "source": [
        "fig, axes = plt.subplots(nrows=1, ncols=2, figsize=(16,6))\n",
        "palette = [\"#9b59b6\", \"#3498db\", \"#95a5a6\", \"#e74c3c\", \"#34495e\", \"#2ecc71\"]\n",
        "\n",
        "\n",
        "sns.boxplot(x=df['Product_Category'], y=df['Purchase'], data=df,palette=palette, ax=axes[0])\n",
        "sns.boxplot(x=df['Occupation'], y=df['Purchase'], data=df,palette=palette, ax=axes[1])\n",
        "axes[0].set_title('Product_Category vs Purchase')\n",
        "axes[1].set_title('Occupation vs Purchase')\n"
      ]
    },
    {
      "cell_type": "markdown",
      "source": [
        "**Observations**\n",
        "* We see variations among product categories. Product category 10 products are the costliest ones. Also, there are few outliers for some of the product categories.\n",
        "* Among different occupation as well, we see similar purchasing behaviour in terms of the purchase values."
      ],
      "metadata": {
        "id": "SL05O30sR7IK"
      }
    },
    {
      "cell_type": "markdown",
      "metadata": {
        "id": "FjQIw0ducCeE"
      },
      "source": [
        "**Multi-Varient Analysis**"
      ]
    },
    {
      "cell_type": "code",
      "execution_count": null,
      "metadata": {
        "colab": {
          "base_uri": "https://localhost:8080/",
          "height": 564
        },
        "id": "Vl3tutqdO3Qc",
        "outputId": "d0bf0466-e7af-4dae-bb0f-6ce2efe0a9a3"
      },
      "outputs": [
        {
          "data": {
            "image/png": "[encoded data removed]",
            "text/plain": [
              "<Figure size 1000x600 with 1 Axes>"
            ]
          },
          "metadata": {},
          "output_type": "display_data"
        }
      ],
      "source": [
        "plt.figure(figsize=(10, 6))\n",
        "sns.barplot(data=product_counts, x='Product_Category', y='Count', hue='Age_Group',estimator=sum)\n",
        "plt.title('Product Category Purchases by Age Group')\n",
        "plt.xlabel('Product Category')\n",
        "plt.ylabel('Frequency')\n",
        "plt.legend(title='Age Group')\n",
        "plt.show()"
      ]
    },
    {
      "cell_type": "markdown",
      "source": [
        "**Observations**\n",
        "* Here we can clearly see age(25-34) are dominating in all the categories\n",
        "* Product category 1 ,5,8,11,16 are mostly sold"
      ],
      "metadata": {
        "id": "WegOGBiMSM-I"
      }
    },
    {
      "cell_type": "code",
      "execution_count": null,
      "metadata": {
        "id": "6f0LTqbZTaLj"
      },
      "outputs": [],
      "source": [
        "# Some other Graphs"
      ]
    },
    {
      "cell_type": "markdown",
      "metadata": {
        "id": "aJLoSCPffWqq"
      },
      "source": []
    },
    {
      "cell_type": "code",
      "execution_count": null,
      "metadata": {
        "colab": {
          "base_uri": "https://localhost:8080/",
          "height": 560
        },
        "id": "SM-3YFcQSagn",
        "outputId": "26eda749-4453-4702-c1f9-293f53794921"
      },
      "outputs": [
        {
          "output_type": "display_data",
          "data": {
            "text/plain": [
              "<Figure size 1000x800 with 2 Axes>"
            ],
            "image/png": "[encoded data removed]"
          },
          "metadata": {}
        }
      ],
      "source": [
        "fig,axes=plt.subplots(nrows=2,ncols=1,figsize=(10, 8))\n",
        "sns.boxplot(data=df, x='Age', y='Purchase', hue='Gender',ax=axes[0])\n",
        "sns.boxplot(data=df, x='Age', y='Purchase', hue='Marital_Status',ax=axes[1])\n",
        "axes[0].set_title('Relationship Between Age, Gender, and Purchase')\n",
        "axes[1].set_title('Relationship Between Age, Marital_Status, and Purchase')\n",
        "plt.show()"
      ]
    },
    {
      "cell_type": "markdown",
      "source": [
        "**Observations**\n",
        "* In all the age groups males customers are more\n",
        "* The data is equally distributed in all the age groups with respect to purchase except in 0-17 age agroup"
      ],
      "metadata": {
        "id": "jiyQRLGDSrrk"
      }
    },
    {
      "cell_type": "code",
      "source": [
        "#Female avg spend vs Male avg spend\n",
        "fig,axes=plt.subplots(nrows=1,ncols=2,figsize=(12,5))\n",
        "sns.histplot(avg_spend[avg_spend['Gender']=='M']['Purchase'],ax=axes[0])\n",
        "sns.histplot(avg_spend[avg_spend['Gender']=='F']['Purchase'],ax=axes[1])\n",
        "axes[0].set_title('Males avg Spend')\n",
        "axes[1].set_title('Females avg Spend')"
      ],
      "metadata": {
        "colab": {
          "base_uri": "https://localhost:8080/",
          "height": 502
        },
        "id": "mpR88JZcSRou",
        "outputId": "e670fade-3000-4ae3-f91b-555c04369dc2"
      },
      "execution_count": null,
      "outputs": [
        {
          "output_type": "execute_result",
          "data": {
            "text/plain": [
              "Text(0.5, 1.0, 'Females avg Spend')"
            ]
          },
          "metadata": {},
          "execution_count": 48
        },
        {
          "output_type": "display_data",
          "data": {
            "text/plain": [
              "<Figure size 1200x500 with 2 Axes>"
            ],
            "image/png": "[encoded data removed]"
          },
          "metadata": {}
        }
      ]
    },
    {
      "cell_type": "markdown",
      "source": [
        "**Observation**\n",
        "+ Average amount spent by males is higher then females"
      ],
      "metadata": {
        "id": "eRavC9DhTpFG"
      }
    },
    {
      "cell_type": "markdown",
      "source": [
        "**#Uisng Central limit theorm to compute interval of mean avg spending of Male and female using different sample sizes**"
      ],
      "metadata": {
        "id": "3CbNqfGPoFIF"
      }
    },
    {
      "cell_type": "code",
      "source": [
        "'''For sample size = 300'''\n",
        "\n",
        "# Computing Z-score for different Confidence interval\n",
        "Z_90=1.645\n",
        "Z_95=1.96\n",
        "Z_99=2.576\n",
        "sample_size=300\n",
        "avg_spend=df.groupby(['User_ID','Gender'])[['Purchase']].sum().reset_index()\n",
        "# Calculating the  population mean for average spend of Men\n",
        "men_data=avg_spend[avg_spend['Gender']=='M']\n",
        "x=[np.mean(men_data['Purchase'].sample(300,replace=True)) for i in range (10000)]\n",
        "Sample_mean_men=np.mean(x)\n",
        "# Calculating the  population mean for average spend of Women\n",
        "women_data=avg_spend[avg_spend['Gender']=='F']\n",
        "y=[np.mean(women_data['Purchase'].sample(300,replace=True)) for i in range (10000)]\n",
        "Sample_mean_women=np.mean(y)\n",
        "print('Sample_mean_men :',Sample_mean_men)\n",
        "print('Sample_mean_women:',Sample_mean_women)\n",
        "\n",
        "#Finding the standard error\n",
        "sigma_men = np.std(men_data['Purchase'])\n",
        "std_error_men = sigma_men / (np.sqrt(300))\n",
        "print('Standard_error_men_data:', std_error_men)\n",
        "sigma_women=np.std(women_data['Purchase'])\n",
        "std_error_women=sigma_women/(np.sqrt(300))\n",
        "print('Standard_error_men_data:', std_error_women)\n",
        "\n",
        "#Finding Confidence Interval for 90 %\n",
        "print('Confidence Interval fro 90%')\n",
        "\n",
        "Upper_Bound_men=(Sample_mean_men + Z_90*std_error_men)\n",
        "Lower_Bound_men =(Sample_mean_men - Z_90*std_error_men)\n",
        "\n",
        "Upper_Bound_women=(Sample_mean_women + Z_90*std_error_men)\n",
        "Lower_Bound_women =(Sample_mean_women - Z_90*std_error_men)\n",
        "\n",
        "M_Width =Upper_Bound_men-Lower_Bound_men\n",
        "W_Width=Upper_Bound_women-Lower_Bound_women\n",
        "\n",
        "print('MEN_CI=',[Upper_Bound_men,Lower_Bound_men])\n",
        "print('Men_width for 90% CI:',M_Width)\n",
        "print('WOMEN_CI=',[Upper_Bound_women,Lower_Bound_women])\n",
        "print('Women_width for 90% CI_:',W_Width)\n",
        "#Finding Confidence Interval for 95 %\n",
        "print('Confidence Interval fOR 95%')\n",
        "\n",
        "Upper_Bound_men=(Sample_mean_men + Z_95*std_error_men)\n",
        "Lower_Bound_men =(Sample_mean_men - Z_95*std_error_men)\n",
        "\n",
        "Upper_Bound_women=(Sample_mean_women + Z_95*std_error_men)\n",
        "Lower_Bound_women =(Sample_mean_women - Z_95*std_error_women)\n",
        "\n",
        "M_Width =Upper_Bound_men-Lower_Bound_men\n",
        "W_Width=Upper_Bound_women-Lower_Bound_women\n",
        "\n",
        "\n",
        "print('MEN_CI=',[Upper_Bound_men,Lower_Bound_men])\n",
        "print('Men_width for 95% CI:',M_Width)\n",
        "print('WOMEN_CI=',[Upper_Bound_women,Lower_Bound_women])\n",
        "print('Women_width FOR 95% CI:',W_Width)\n",
        "\n",
        "\n",
        "#Finding Confidence Interval for 99 %\n",
        "print('Confidence Interval fOR 99%')\n",
        "\n",
        "Upper_Bound_men=(Sample_mean_men + Z_99*std_error_men)\n",
        "Lower_Bound_men =(Sample_mean_men - Z_99*std_error_men)\n",
        "\n",
        "Upper_Bound_women=(Sample_mean_women + Z_99*std_error_women)\n",
        "Lower_Bound_women =(Sample_mean_women - Z_95*std_error_women)\n",
        "\n",
        "M_Width =Upper_Bound_men-Lower_Bound_men\n",
        "W_Width=Upper_Bound_women-Lower_Bound_women\n",
        "\n",
        "\n",
        "print('MEN_CI for 95% CI=',[Upper_Bound_men,Lower_Bound_men])\n",
        "print('Men_width:',M_Width)\n",
        "print('WOMEN_CI=',[Upper_Bound_women,Lower_Bound_women])\n",
        "print('Women_width for 95% CI:',W_Width)\n",
        "\n",
        "\n",
        "\n",
        "\n",
        "\n",
        "\n",
        "\n",
        "\n",
        "\n",
        "\n",
        "\n",
        "\n",
        "\n"
      ],
      "metadata": {
        "colab": {
          "base_uri": "https://localhost:8080/"
        },
        "id": "1UwiXjadnMZo",
        "outputId": "e6cf658c-be9a-4ebe-eea6-b995775b1f0f"
      },
      "execution_count": null,
      "outputs": [
        {
          "output_type": "stream",
          "name": "stdout",
          "text": [
            "Sample_mean_men : 926151.5543229999\n",
            "Sample_mean_women: 712452.7619836667\n",
            "Standard_error_men_data: 56910.191277280064\n",
            "Standard_error_men_data: 46599.57884067893\n",
            "Confidence Interval fro 90%\n",
            "MEN_CI= [1019768.8189741257, 832534.2896718741]\n",
            "Men_width for 90% CI: 187234.52930225153\n",
            "WOMEN_CI= [806070.0266347923, 618835.497332541]\n",
            "Women_width for 90% CI_: 187234.5293022513\n",
            "Confidence Interval fOR 95%\n",
            "MEN_CI= [1037695.5292264689, 814607.5794195309]\n",
            "Men_width for 95% CI: 223087.94980693795\n",
            "WOMEN_CI= [823996.7368871357, 621117.587455936]\n",
            "Women_width FOR 95% CI: 202879.14943119965\n",
            "Confidence Interval fOR 99%\n",
            "MEN_CI for 95% CI= [1072752.2070532735, 779550.9015927265]\n",
            "Men_width: 293201.305460547\n",
            "WOMEN_CI= [832493.2770772557, 621117.587455936]\n",
            "Women_width for 95% CI: 211375.68962131965\n"
          ]
        }
      ]
    },
    {
      "cell_type": "markdown",
      "source": [],
      "metadata": {
        "id": "TNAesD5uUSHy"
      }
    },
    {
      "cell_type": "code",
      "source": [
        "'''For sample size = 3000'''\n",
        "\n",
        "# Computing Z-score for different Confidence interval\n",
        "Z_90=1.645\n",
        "Z_95=1.96\n",
        "Z_99=2.576\n",
        "sample_size=3000\n",
        "avg_spend=df.groupby(['User_ID','Gender'])[['Purchase']].sum().reset_index()\n",
        "# Calculating the  population mean for average spend of Men\n",
        "men_data=avg_spend[avg_spend['Gender']=='M']\n",
        "x=[np.mean(men_data['Purchase'].sample(3000,replace=True)) for i in range (10000)]\n",
        "Sample_mean_men=np.mean(x)\n",
        "# Calculating the  population mean for average spend of Women\n",
        "women_data=avg_spend[avg_spend['Gender']=='F']\n",
        "y=[np.mean(women_data['Purchase'].sample(3000,replace=True)) for i in range (10000)]\n",
        "Sample_mean_women=np.mean(y)\n",
        "print('Sample_mean_men :',Sample_mean_men)\n",
        "print('Sample_mean_women:',Sample_mean_women)\n",
        "\n",
        "#Finding the standard error\n",
        "sigma_men = np.std(men_data['Purchase'])\n",
        "std_error_men = sigma_men / (np.sqrt(3000))\n",
        "print('Standard_error_men_data:', std_error_men)\n",
        "sigma_women=np.std(women_data['Purchase'])\n",
        "std_error_women=sigma_women/(np.sqrt(3000))\n",
        "print('Standard_error_men_data:', std_error_women)\n",
        "\n",
        "#Finding Confidence Interval for 90 %\n",
        "print('Confidence Interval fro 90%')\n",
        "\n",
        "Upper_Bound_men=(Sample_mean_men + Z_90*std_error_men)\n",
        "Lower_Bound_men =(Sample_mean_men - Z_90*std_error_men)\n",
        "\n",
        "Upper_Bound_women=(Sample_mean_women + Z_90*std_error_women)\n",
        "Lower_Bound_women =(Sample_mean_women - Z_90*std_error_women)\n",
        "\n",
        "M_Width =Upper_Bound_men-Lower_Bound_men\n",
        "W_Width=Upper_Bound_women-Lower_Bound_women\n",
        "\n",
        "print('MEN_CI=',[Upper_Bound_men,Lower_Bound_men])\n",
        "print('Men_width for 90% CI:',M_Width)\n",
        "print('WOMEN_CI=',[Upper_Bound_women,Lower_Bound_women])\n",
        "print('Women_width for 90% CI_:',W_Width)\n",
        "#Finding Confidence Interval for 95 %\n",
        "print('Confidence Interval fOR 95%')\n",
        "\n",
        "Upper_Bound_men=(Sample_mean_men + Z_95*std_error_men)\n",
        "Lower_Bound_men =(Sample_mean_men - Z_95*std_error_men)\n",
        "\n",
        "Upper_Bound_women=(Sample_mean_women + Z_95*std_error_women)\n",
        "Lower_Bound_women =(Sample_mean_women - Z_95*std_error_women)\n",
        "\n",
        "M_Width =Upper_Bound_men-Lower_Bound_men\n",
        "W_Width=Upper_Bound_women-Lower_Bound_women\n",
        "\n",
        "\n",
        "print('MEN_CI=',[Upper_Bound_men,Lower_Bound_men])\n",
        "print('Men_width for 95% CI:',M_Width)\n",
        "print('WOMEN_CI=',[Upper_Bound_women,Lower_Bound_women])\n",
        "print('Women_width FOR 95% CI:',W_Width)\n",
        "\n",
        "\n",
        "#Finding Confidence Interval for 99 %\n",
        "print('Confidence Interval fOR 99%')\n",
        "\n",
        "Upper_Bound_men=(Sample_mean_men + Z_99*std_error_men)\n",
        "Lower_Bound_men =(Sample_mean_men - Z_99*std_error_men)\n",
        "\n",
        "Upper_Bound_women=(Sample_mean_women + Z_99*std_error_women)\n",
        "Lower_Bound_women =(Sample_mean_women - Z_95*std_error_women)\n",
        "\n",
        "M_Width =Upper_Bound_men-Lower_Bound_men\n",
        "W_Width=Upper_Bound_women-Lower_Bound_women\n",
        "\n",
        "\n",
        "print('MEN_CI for 95% CI=',[Upper_Bound_men,Lower_Bound_men])\n",
        "print('Men_width:',M_Width)\n",
        "print('WOMEN_CI=',[Upper_Bound_women,Lower_Bound_women])\n",
        "print('Women_width for 95% CI:',W_Width)"
      ],
      "metadata": {
        "colab": {
          "base_uri": "https://localhost:8080/"
        },
        "id": "zVgDV3NJYOL-",
        "outputId": "35cd6f40-340d-46d4-fd4a-800a1b6860f8"
      },
      "execution_count": null,
      "outputs": [
        {
          "output_type": "stream",
          "name": "stdout",
          "text": [
            "Sample_mean_men : 925610.1180841334\n",
            "Sample_mean_women: 712084.7964073666\n",
            "Standard_error_men_data: 17996.58265120521\n",
            "Standard_error_men_data: 14736.08071411341\n",
            "Confidence Interval fro 90%\n",
            "MEN_CI= [955214.4965453659, 896005.7396229008]\n",
            "Men_width for 90% CI: 59208.75692246505\n",
            "WOMEN_CI= [736325.6491820832, 687843.9436326501]\n",
            "Women_width for 90% CI_: 48481.70554943313\n",
            "Confidence Interval fOR 95%\n",
            "MEN_CI= [960883.4200804955, 890336.8160877712]\n",
            "Men_width for 95% CI: 70546.60399272433\n",
            "WOMEN_CI= [740967.5146070289, 683202.0782077044]\n",
            "Women_width FOR 95% CI: 57765.436399324564\n",
            "Confidence Interval fOR 99%\n",
            "MEN_CI for 95% CI= [971969.314993638, 879250.9211746288]\n",
            "Men_width: 92718.39381900919\n",
            "WOMEN_CI= [750044.9403269228, 683202.0782077044]\n",
            "Women_width for 95% CI: 66842.86211921845\n"
          ]
        }
      ]
    },
    {
      "cell_type": "code",
      "source": [
        "'''For sample size = 30000'''\n",
        "\n",
        "# Computing Z-score for different Confidence interval\n",
        "Z_90=1.645\n",
        "Z_95=1.96\n",
        "Z_99=2.576\n",
        "sample_size=30000\n",
        "avg_spend=df.groupby(['User_ID','Gender'])[['Purchase']].sum().reset_index()\n",
        "# Calculating the  population mean for average spend of Men\n",
        "men_data=avg_spend[avg_spend['Gender']=='M']\n",
        "x=[np.mean(men_data['Purchase'].sample(30000,replace=True)) for i in range (10000)]\n",
        "Sample_mean_men=np.mean(x)\n",
        "# Calculating the  population mean for average spend of Women\n",
        "women_data=avg_spend[avg_spend['Gender']=='F']\n",
        "y=[np.mean(women_data['Purchase'].sample(30000,replace=True)) for i in range (10000)]\n",
        "Sample_mean_women=np.mean(y)\n",
        "print('Sample_mean_men :',Sample_mean_men)\n",
        "print('Sample_mean_women:',Sample_mean_women)\n",
        "\n",
        "#Finding the standard error\n",
        "sigma_men = np.std(men_data['Purchase'])\n",
        "std_error_men = sigma_men / (np.sqrt(30000))\n",
        "print('Standard_error_men_data:', std_error_men)\n",
        "sigma_women=np.std(women_data['Purchase'])\n",
        "std_error_women=sigma_women/(np.sqrt(30000))\n",
        "print('Standard_error_men_data:', std_error_women)\n",
        "\n",
        "#Finding Confidence Interval for 90 %\n",
        "print('Confidence Interval fro 90%')\n",
        "\n",
        "Upper_Bound_men=(Sample_mean_men + Z_90*std_error_men)\n",
        "Lower_Bound_men =(Sample_mean_men - Z_90*std_error_men)\n",
        "\n",
        "Upper_Bound_women=(Sample_mean_women + Z_90*std_error_women)\n",
        "Lower_Bound_women =(Sample_mean_women - Z_90*std_error_women)\n",
        "\n",
        "M_Width =Upper_Bound_men-Lower_Bound_men\n",
        "W_Width=Upper_Bound_women-Lower_Bound_women\n",
        "\n",
        "print('MEN_CI=',[Upper_Bound_men,Lower_Bound_men])\n",
        "print('Men_width for 90% CI:',M_Width)\n",
        "print('WOMEN_CI=',[Upper_Bound_women,Lower_Bound_women])\n",
        "print('Women_width for 90% CI_:',W_Width)\n",
        "#Finding Confidence Interval for 95 %\n",
        "print('Confidence Interval fOR 95%')\n",
        "\n",
        "Upper_Bound_men=(Sample_mean_men + Z_95*std_error_men)\n",
        "Lower_Bound_men =(Sample_mean_men - Z_95*std_error_men)\n",
        "\n",
        "Upper_Bound_women=(Sample_mean_women + Z_95*std_error_women)\n",
        "Lower_Bound_women =(Sample_mean_women - Z_95*std_error_women)\n",
        "\n",
        "M_Width =Upper_Bound_men-Lower_Bound_men\n",
        "W_Width=Upper_Bound_women-Lower_Bound_women\n",
        "\n",
        "\n",
        "print('MEN_CI=',[Upper_Bound_men,Lower_Bound_men])\n",
        "print('Men_width for 95% CI:',M_Width)\n",
        "print('WOMEN_CI=',[Upper_Bound_women,Lower_Bound_women])\n",
        "print('Women_width FOR 95% CI:',W_Width)\n",
        "\n",
        "\n",
        "#Finding Confidence Interval for 99 %\n",
        "print('Confidence Interval fOR 99%')\n",
        "\n",
        "Upper_Bound_men=(Sample_mean_men + Z_99*std_error_men)\n",
        "Lower_Bound_men =(Sample_mean_men - Z_99*std_error_men)\n",
        "\n",
        "Upper_Bound_women=(Sample_mean_women + Z_99*std_error_women)\n",
        "Lower_Bound_women =(Sample_mean_women - Z_95*std_error_women)\n",
        "\n",
        "M_Width =Upper_Bound_men-Lower_Bound_men\n",
        "W_Width=Upper_Bound_women-Lower_Bound_women\n",
        "\n",
        "\n",
        "print('MEN_CI for 95% CI=',[Upper_Bound_men,Lower_Bound_men])\n",
        "print('Men_width:',M_Width)\n",
        "print('WOMEN_CI=',[Upper_Bound_women,Lower_Bound_women])\n",
        "print('Women_width for 95% CI:',W_Width)"
      ],
      "metadata": {
        "colab": {
          "base_uri": "https://localhost:8080/"
        },
        "id": "dPhxwjmcabjE",
        "outputId": "6ed096b8-4c57-4177-8018-d5c14a52ac6a"
      },
      "execution_count": null,
      "outputs": [
        {
          "output_type": "stream",
          "name": "stdout",
          "text": [
            "Sample_mean_men : 925359.87129737\n",
            "Sample_mean_women: 711983.7069484066\n",
            "Standard_error_men_data: 5691.019127728007\n",
            "Standard_error_men_data: 4659.957884067894\n",
            "Confidence Interval fro 90%\n",
            "MEN_CI= [934721.5977624825, 915998.1448322574]\n",
            "Men_width for 90% CI: 18723.45293022506\n",
            "WOMEN_CI= [719649.3376676983, 704318.076229115]\n",
            "Women_width for 90% CI_: 15331.261438583257\n",
            "Confidence Interval fOR 95%\n",
            "MEN_CI= [936514.2687877169, 914205.473807023]\n",
            "Men_width for 95% CI: 22308.79498069384\n",
            "WOMEN_CI= [721117.2244011797, 702850.1894956336]\n",
            "Women_width FOR 95% CI: 18267.034905546112\n",
            "Confidence Interval fOR 99%\n",
            "MEN_CI for 95% CI= [940019.9365703973, 910699.8060243425]\n",
            "Men_width: 29320.130546054803\n",
            "WOMEN_CI= [723987.7584577656, 702850.1894956336]\n",
            "Women_width for 95% CI: 21137.568962131976\n"
          ]
        }
      ]
    },
    {
      "cell_type": "code",
      "source": [
        "fig,axes=plt.subplots(nrows=1,ncols=2,figsize=(13,4))\n",
        "sns.histplot(x,ax=axes[0])\n",
        "sns.histplot(y,ax=axes[1])\n",
        "\n",
        "axes[0].set_title('Men_distribution_means Sample size=30000')\n",
        "axes[1].set_title('Women_distribution_means Sample size=30000')"
      ],
      "metadata": {
        "colab": {
          "base_uri": "https://localhost:8080/",
          "height": 408
        },
        "id": "gi7M9ycPbaK6",
        "outputId": "7e023001-3183-4266-b131-0f50bd288368"
      },
      "execution_count": null,
      "outputs": [
        {
          "output_type": "execute_result",
          "data": {
            "text/plain": [
              "Text(0.5, 1.0, 'Women_distribution_means Sample size=30000')"
            ]
          },
          "metadata": {},
          "execution_count": 33
        },
        {
          "output_type": "display_data",
          "data": {
            "text/plain": [
              "<Figure size 1300x400 with 2 Axes>"
            ],
            "image/png": "[encoded data removed]"
          },
          "metadata": {}
        }
      ]
    },
    {
      "cell_type": "markdown",
      "source": [
        "**Observations**\n",
        "+ As the sample size is increasing the sample mean tends to come closer to popuation mean\n",
        "+ As the sample size increase the std error is decresing narrowing down the spread of data\n",
        "+ Majority of data is covered under 99% Confidence Interval\n",
        "\n",
        "**Insights**\n",
        "+\n",
        "The analysis highlights the importance of sample size in estimating population parameters. It suggests that as the sample size increases, the confidence\n",
        "intervals become narrower and more precise . In business, this implies that larger sample sizes can provide more reliable insights and estimates.\n",
        "\n",
        "+ Men tend to spend more money per transaction on average than women , as the upper bounds of the confidence intervals for men are consistently\n",
        "higher than those for women across different sample sizes.\n"
      ],
      "metadata": {
        "id": "T6YwyyICT-Bl"
      }
    },
    {
      "cell_type": "markdown",
      "source": [
        "**#Uisng Central limit theorm to compute interval of mean avg spending of Married and Single using different sample sizes**"
      ],
      "metadata": {
        "id": "qKtrhMUjdFqu"
      }
    },
    {
      "cell_type": "code",
      "source": [
        "'''For sample size = 300'''\n",
        "\n",
        "# Computing Z-score for different Confidence interval\n",
        "Z_90=1.645\n",
        "Z_95=1.96\n",
        "Z_99=2.576\n",
        "sample_size=300\n",
        "avg_spend=df.groupby(['User_ID','Marital_Status'])[['Purchase']].sum().reset_index()\n",
        "# Calculating the  population mean for average spend of Single\n",
        "single_data=avg_spend[avg_spend['Marital_Status']=='Single']\n",
        "x=[np.mean(single_data['Purchase'].sample(300,replace=True)) for i in range (10000)]\n",
        "Sample_mean_single=np.mean(x)\n",
        "# Calculating the  population mean for average spend of Married\n",
        "married_data=avg_spend[avg_spend['Marital_Status']=='Married']\n",
        "y=[np.mean(married_data['Purchase'].sample(300,replace=True)) for i in range (10000)]\n",
        "Sample_mean_married=np.mean(y)\n",
        "print('Sample_mean_single :',Sample_mean_single)\n",
        "print('Sample_mean_married:',Sample_mean_married)\n",
        "\n",
        "#Finding the standard error\n",
        "sigma_single = np.std(single_data['Purchase'])\n",
        "std_error_single = sigma_single / (np.sqrt(300))\n",
        "print('Standard_error_single_data:', std_error_single)\n",
        "sigma_married=np.std(married_data['Purchase'])\n",
        "std_error_married=sigma_married/(np.sqrt(300))\n",
        "print('Standard_error_single_data:', std_error_married)\n",
        "\n",
        "#Finding Confidence Interval for 90 %\n",
        "print('Confidence Interval fro 90%')\n",
        "\n",
        "Upper_Bound_single=(Sample_mean_single + Z_90*std_error_single)\n",
        "Lower_Bound_single =(Sample_mean_single - Z_90*std_error_single)\n",
        "\n",
        "Upper_Bound_married=(Sample_mean_married + Z_90*std_error_married)\n",
        "Lower_Bound_married =(Sample_mean_married - Z_90*std_error_married)\n",
        "\n",
        "S_Width =Upper_Bound_single-Lower_Bound_single\n",
        "M_Width=Upper_Bound_married-Lower_Bound_married\n",
        "\n",
        "print('SINGLE_CI=',[Upper_Bound_single,Lower_Bound_single])\n",
        "print('Single_width for 90% CI:',S_Width)\n",
        "print('MARRIED_CI=',[Upper_Bound_married,Lower_Bound_married])\n",
        "print('Married_width for 90% CI_:',M_Width)\n",
        "#Finding Confidence Interval for 95 %\n",
        "print('Confidence Interval fOR 95%')\n",
        "\n",
        "Upper_Bound_single=(Sample_mean_single + Z_95*std_error_single)\n",
        "Lower_Bound_single =(Sample_mean_single - Z_95*std_error_single)\n",
        "\n",
        "Upper_Bound_married=(Sample_mean_married+ Z_95*std_error_married)\n",
        "Lower_Bound_married =(Sample_mean_married - Z_95*std_error_married)\n",
        "\n",
        "S_Width =Upper_Bound_single-Lower_Bound_single\n",
        "M_Width=Upper_Bound_married-Lower_Bound_married\n",
        "\n",
        "\n",
        "print('SINGLE_CI=',[Upper_Bound_single,Lower_Bound_single])\n",
        "print('Single_width for 95% CI:',S_Width)\n",
        "print('MARRIED_CI=',[Upper_Bound_married,Lower_Bound_married])\n",
        "print('Married_width FOR 95% CI:',M_Width)\n",
        "\n",
        "\n",
        "#Finding Confidence Interval for 99 %\n",
        "print('Confidence Interval fro 99%')\n",
        "\n",
        "Upper_Bound_single=(Sample_mean_single + Z_99*std_error_single)\n",
        "Lower_Bound_single =(Sample_mean_single - Z_99*std_error_single)\n",
        "\n",
        "Upper_Bound_married=(Sample_mean_married + Z_99*std_error_married)\n",
        "Lower_Bound_women =(Sample_mean_married - Z_99*std_error_married)\n",
        "\n",
        "S_Width =Upper_Bound_single-Lower_Bound_single\n",
        "M_Width=Upper_Bound_married-Lower_Bound_married\n",
        "\n",
        "print('SINGLE_CI=',[Upper_Bound_single,Lower_Bound_single])\n",
        "print('Single_width for 99% CI:',S_Width)\n",
        "print('MARRIED_CI=',[Upper_Bound_married,Lower_Bound_married])\n",
        "print('Married_width for 99% CI_:',M_Width)\n"
      ],
      "metadata": {
        "id": "iA910Z5CdBdT",
        "colab": {
          "base_uri": "https://localhost:8080/"
        },
        "outputId": "bb0b77a3-5c22-4f00-88f5-f2546fbc9760"
      },
      "execution_count": null,
      "outputs": [
        {
          "output_type": "stream",
          "name": "stdout",
          "text": [
            "Sample_mean_single : 880254.0717746665\n",
            "Sample_mean_married: 844035.734009\n",
            "Standard_error_single_data: 54807.70580774725\n",
            "Standard_error_single_data: 53991.66446103998\n",
            "Confidence Interval fro 90%\n",
            "SINGLE_CI= [970412.7478284107, 790095.3957209224]\n",
            "Single_width for 90% CI: 180317.35210748832\n",
            "MARRIED_CI= [932852.0220474107, 755219.4459705893]\n",
            "Married_width for 90% CI_: 177632.57607682142\n",
            "Confidence Interval fOR 95%\n",
            "SINGLE_CI= [987677.1751578512, 772830.9683914819]\n",
            "Single_width for 95% CI: 214846.2067663693\n",
            "MARRIED_CI= [949859.3963526384, 738212.0716653616]\n",
            "Married_width FOR 95% CI: 211647.32468727673\n",
            "Confidence Interval fro 99%\n",
            "SINGLE_CI= [1021438.7219354234, 739069.4216139097]\n",
            "Single_width for 99% CI: 282369.3003215138\n",
            "MARRIED_CI= [983118.261660639, 738212.0716653616]\n",
            "Married_width for 99% CI_: 244906.18999527732\n"
          ]
        }
      ]
    },
    {
      "cell_type": "code",
      "source": [
        "'''For sample size = 3000'''\n",
        "\n",
        "# Computing Z-score for different Confidence interval\n",
        "Z_90=1.645\n",
        "Z_95=1.96\n",
        "Z_99=2.576\n",
        "sample_size=3000\n",
        "avg_spend=df.groupby(['User_ID','Marital_Status'])[['Purchase']].sum().reset_index()\n",
        "# Calculating the  population mean for average spend of Single\n",
        "single_data=avg_spend[avg_spend['Marital_Status']=='Single']\n",
        "x=[np.mean(single_data['Purchase'].sample(3000,replace=True)) for i in range (10000)]\n",
        "Sample_mean_single=np.mean(x)\n",
        "# Calculating the  population mean for average spend of Married\n",
        "married_data=avg_spend[avg_spend['Marital_Status']=='Married']\n",
        "y=[np.mean(married_data['Purchase'].sample(3000,replace=True)) for i in range (10000)]\n",
        "Sample_mean_married=np.mean(y)\n",
        "print('Sample_mean_single :',Sample_mean_single)\n",
        "print('Sample_mean_married:',Sample_mean_married)\n",
        "\n",
        "#Finding the standard error\n",
        "sigma_single = np.std(single_data['Purchase'])\n",
        "std_error_single = sigma_single / (np.sqrt(3000))\n",
        "print('Standard_error_single_data:', std_error_single)\n",
        "sigma_married=np.std(married_data['Purchase'])\n",
        "std_error_married=sigma_married/(np.sqrt(3000))\n",
        "print('Standard_error_single_data:', std_error_married)\n",
        "\n",
        "#Finding Confidence Interval for 90 %\n",
        "print('Confidence Interval fro 90%')\n",
        "\n",
        "Upper_Bound_single=(Sample_mean_single + Z_90*std_error_single)\n",
        "Lower_Bound_single =(Sample_mean_single - Z_90*std_error_single)\n",
        "\n",
        "Upper_Bound_married=(Sample_mean_married + Z_90*std_error_married)\n",
        "Lower_Bound_married =(Sample_mean_married - Z_90*std_error_married)\n",
        "\n",
        "S_Width =Upper_Bound_single-Lower_Bound_single\n",
        "M_Width=Upper_Bound_married-Lower_Bound_married\n",
        "\n",
        "print('SINGLE_CI=',[Upper_Bound_single,Lower_Bound_single])\n",
        "print('Single_width for 90% CI:',S_Width)\n",
        "print('MARRIED_CI=',[Upper_Bound_married,Lower_Bound_married])\n",
        "print('Married_width for 90% CI_:',M_Width)\n",
        "#Finding Confidence Interval for 95 %\n",
        "print('Confidence Interval fOR 95%')\n",
        "\n",
        "Upper_Bound_single=(Sample_mean_single + Z_95*std_error_single)\n",
        "Lower_Bound_single =(Sample_mean_single - Z_95*std_error_single)\n",
        "\n",
        "Upper_Bound_married=(Sample_mean_married+ Z_95*std_error_married)\n",
        "Lower_Bound_married =(Sample_mean_married - Z_95*std_error_married)\n",
        "\n",
        "S_Width =Upper_Bound_single-Lower_Bound_single\n",
        "M_Width=Upper_Bound_married-Lower_Bound_married\n",
        "\n",
        "\n",
        "print('SINGLE_CI=',[Upper_Bound_single,Lower_Bound_single])\n",
        "print('Single_width for 95% CI:',S_Width)\n",
        "print('MARRIED_CI=',[Upper_Bound_married,Lower_Bound_married])\n",
        "print('Married_width FOR 95% CI:',M_Width)\n",
        "\n",
        "\n",
        "#Finding Confidence Interval for 99 %\n",
        "print('Confidence Interval fro 99%')\n",
        "\n",
        "Upper_Bound_single=(Sample_mean_single + Z_99*std_error_single)\n",
        "Lower_Bound_single =(Sample_mean_single - Z_99*std_error_single)\n",
        "\n",
        "Upper_Bound_married=(Sample_mean_married + Z_99*std_error_married)\n",
        "Lower_Bound_women =(Sample_mean_married - Z_99*std_error_married)\n",
        "\n",
        "S_Width =Upper_Bound_single-Lower_Bound_single\n",
        "M_Width=Upper_Bound_married-Lower_Bound_married\n",
        "\n",
        "print('SINGLE_CI=',[Upper_Bound_single,Lower_Bound_single])\n",
        "print('Single_width for 99% CI:',S_Width)\n",
        "print('MARRIED_CI=',[Upper_Bound_married,Lower_Bound_married])\n",
        "print('Married_width for 99% CI_:',M_Width)"
      ],
      "metadata": {
        "colab": {
          "base_uri": "https://localhost:8080/"
        },
        "id": "mtjoI97bicAL",
        "outputId": "83c5fecd-e92d-400f-8c3b-67122e58f24e"
      },
      "execution_count": null,
      "outputs": [
        {
          "output_type": "stream",
          "name": "stdout",
          "text": [
            "Sample_mean_single : 880766.7008692668\n",
            "Sample_mean_married: 843499.5063928333\n",
            "Standard_error_single_data: 17331.718368091984\n",
            "Standard_error_single_data: 17073.663436045375\n",
            "Confidence Interval fro 90%\n",
            "SINGLE_CI= [909277.3775847781, 852256.0241537554]\n",
            "Single_width for 90% CI: 57021.353431022726\n",
            "MARRIED_CI= [871585.6827451279, 815413.3300405387]\n",
            "Married_width for 90% CI_: 56172.352704589255\n",
            "Confidence Interval fOR 95%\n",
            "SINGLE_CI= [914736.868870727, 846796.5328678065]\n",
            "Single_width for 95% CI: 67940.33600292052\n",
            "MARRIED_CI= [876963.8867274822, 810035.1260581844]\n",
            "Married_width FOR 95% CI: 66928.76066929777\n",
            "Confidence Interval fro 99%\n",
            "SINGLE_CI= [925413.2073854717, 836120.1943530618]\n",
            "Single_width for 99% CI: 89293.01303240983\n",
            "MARRIED_CI= [887481.2634040862, 810035.1260581844]\n",
            "Married_width for 99% CI_: 77446.1373459018\n"
          ]
        }
      ]
    },
    {
      "cell_type": "code",
      "source": [
        "'''For sample size = 30000'''\n",
        "\n",
        "# Computing Z-score for different Confidence interval\n",
        "Z_90=1.645\n",
        "Z_95=1.96\n",
        "Z_99=2.576\n",
        "sample_size=30000\n",
        "avg_spend=df.groupby(['User_ID','Marital_Status'])[['Purchase']].sum().reset_index()\n",
        "# Calculating the  population mean for average spend of Single\n",
        "single_data=avg_spend[avg_spend['Marital_Status']=='Single']\n",
        "x=[np.mean(single_data['Purchase'].sample(30000,replace=True)) for i in range (10000)]\n",
        "Sample_mean_single=np.mean(x)\n",
        "# Calculating the  population mean for average spend of Married\n",
        "married_data=avg_spend[avg_spend['Marital_Status']=='Married']\n",
        "y=[np.mean(married_data['Purchase'].sample(30000,replace=True)) for i in range (10000)]\n",
        "Sample_mean_married=np.mean(y)\n",
        "print('Sample_mean_single :',Sample_mean_single)\n",
        "print('Sample_mean_married:',Sample_mean_married)\n",
        "\n",
        "#Finding the standard error\n",
        "sigma_single = np.std(single_data['Purchase'])\n",
        "std_error_single = sigma_single / (np.sqrt(30000))\n",
        "print('Standard_error_single_data:', std_error_single)\n",
        "sigma_married=np.std(married_data['Purchase'])\n",
        "std_error_married=sigma_married/(np.sqrt(30000))\n",
        "print('Standard_error_single_data:', std_error_married)\n",
        "\n",
        "#Finding Confidence Interval for 90 %\n",
        "print('Confidence Interval fro 90%')\n",
        "\n",
        "Upper_Bound_single=(Sample_mean_single + Z_90*std_error_single)\n",
        "Lower_Bound_single =(Sample_mean_single - Z_90*std_error_single)\n",
        "\n",
        "Upper_Bound_married=(Sample_mean_married + Z_90*std_error_married)\n",
        "Lower_Bound_married =(Sample_mean_married - Z_90*std_error_married)\n",
        "\n",
        "S_Width =Upper_Bound_single-Lower_Bound_single\n",
        "M_Width=Upper_Bound_married-Lower_Bound_married\n",
        "\n",
        "print('SINGLE_CI=',[Upper_Bound_single,Lower_Bound_single])\n",
        "print('Single_width for 90% CI:',S_Width)\n",
        "print('MARRIED_CI=',[Upper_Bound_married,Lower_Bound_married])\n",
        "print('Married_width for 90% CI_:',M_Width)\n",
        "#Finding Confidence Interval for 95 %\n",
        "print('Confidence Interval fOR 95%')\n",
        "\n",
        "Upper_Bound_single=(Sample_mean_single + Z_95*std_error_single)\n",
        "Lower_Bound_single =(Sample_mean_single - Z_95*std_error_single)\n",
        "\n",
        "Upper_Bound_married=(Sample_mean_married+ Z_95*std_error_married)\n",
        "Lower_Bound_married =(Sample_mean_married - Z_95*std_error_married)\n",
        "\n",
        "S_Width =Upper_Bound_single-Lower_Bound_single\n",
        "M_Width=Upper_Bound_married-Lower_Bound_married\n",
        "\n",
        "\n",
        "print('SINGLE_CI=',[Upper_Bound_single,Lower_Bound_single])\n",
        "print('Single_width for 95% CI:',S_Width)\n",
        "print('MARRIED_CI=',[Upper_Bound_married,Lower_Bound_married])\n",
        "print('Married_width FOR 95% CI:',M_Width)\n",
        "\n",
        "\n",
        "#Finding Confidence Interval for 99 %\n",
        "print('Confidence Interval fro 99%')\n",
        "\n",
        "Upper_Bound_single=(Sample_mean_single + Z_99*std_error_single)\n",
        "Lower_Bound_single =(Sample_mean_single - Z_99*std_error_single)\n",
        "\n",
        "Upper_Bound_married=(Sample_mean_married + Z_99*std_error_married)\n",
        "Lower_Bound_women =(Sample_mean_married - Z_99*std_error_married)\n",
        "\n",
        "S_Width =Upper_Bound_single-Lower_Bound_single\n",
        "M_Width=Upper_Bound_married-Lower_Bound_married\n",
        "\n",
        "print('SINGLE_CI=',[Upper_Bound_single,Lower_Bound_single])\n",
        "print('Single_width for 99% CI:',S_Width)\n",
        "print('MARRIED_CI=',[Upper_Bound_married,Lower_Bound_married])\n",
        "print('Married_width for 99% CI_:',M_Width)"
      ],
      "metadata": {
        "colab": {
          "base_uri": "https://localhost:8080/"
        },
        "id": "R6J55B_Wi41K",
        "outputId": "f68e3bb6-8ba9-4ea1-c510-b89086cd4300"
      },
      "execution_count": null,
      "outputs": [
        {
          "output_type": "stream",
          "name": "stdout",
          "text": [
            "Sample_mean_single : 880581.1347503967\n",
            "Sample_mean_married: 843589.5636313666\n",
            "Standard_error_single_data: 5480.770580774725\n",
            "Standard_error_single_data: 5399.166446103998\n",
            "Confidence Interval fro 90%\n",
            "SINGLE_CI= [889597.0023557711, 871565.2671450223]\n",
            "Single_width for 90% CI: 18031.735210748855\n",
            "MARRIED_CI= [852471.1924352077, 834707.9348275255]\n",
            "Married_width for 90% CI_: 17763.257607682142\n",
            "Confidence Interval fOR 95%\n",
            "SINGLE_CI= [891323.4450887152, 869838.8244120782]\n",
            "Single_width for 95% CI: 21484.62067663693\n",
            "MARRIED_CI= [854171.9298657305, 833007.1973970027]\n",
            "Married_width FOR 95% CI: 21164.732468727743\n",
            "Confidence Interval fro 99%\n",
            "SINGLE_CI= [894699.5997664724, 866462.6697343211]\n",
            "Single_width for 99% CI: 28236.930032151286\n",
            "MARRIED_CI= [857497.8163965305, 833007.1973970027]\n",
            "Married_width for 99% CI_: 24490.618999527767\n"
          ]
        }
      ]
    },
    {
      "cell_type": "markdown",
      "source": [
        "**Observations**\n",
        "+"
      ],
      "metadata": {
        "id": "pMEKd8v4Wk0c"
      }
    },
    {
      "cell_type": "code",
      "source": [
        "# Computing Z-score for different Confidence interval\n",
        "Z_90=1.645\n",
        "Z_95=1.96\n",
        "Z_99=2.576\n",
        "sample_size=300\n",
        "age_group=df['Age'].value_counts.values\n",
        "for i in age_group\n",
        "\n",
        "  x=[np.mean(i.sample(300,replace=True)) for i in range (10000)]\n",
        "  Sample_mean_age=np.mean(x)\n",
        "  print('Sample_mean_age :',i,Sample_mean_age_0_17)\n",
        "  sigma = np.std(agedata['_Purchase'])\n",
        "std_error_0_17 = sigma_0_17 / (np.sqrt(300))\n",
        "Upper_Bound_age_0_17=(Sample_mean_age_0_17 + Z_90*std_error_0_17)\n",
        "Lower_Bound_age_0_17 =(Sample_mean_age_0_17 - Z_90*std_error_0_17)\n",
        "Width_0_17 =Upper_Bound_age_0_17-Lower_Bound_age_0_17\n",
        "print('MEN_CI=',[Upper_Bound_men,Lower_Bound_men])\n",
        "print('Men_width for 90% CI:',M_Width)"
      ],
      "metadata": {
        "id": "R6PF6vlmu-ZJ"
      },
      "execution_count": null,
      "outputs": []
    },
    {
      "cell_type": "code",
      "source": [
        "fig,axes=plt.subplots(nrows=1,ncols=2,figsize=(13,4))\n",
        "sns.histplot(x,ax=axes[0])\n",
        "sns.histplot(y,ax=axes[1])\n",
        "\n",
        "axes[0].set_title('Single_distribution_means Sample size=30000')\n",
        "axes[1].set_title('Married_distribution_means Sample size=30000')"
      ],
      "metadata": {
        "colab": {
          "base_uri": "https://localhost:8080/",
          "height": 267
        },
        "id": "s7M4j5oBjPEX",
        "outputId": "5096ac72-d060-4871-dee5-5b4010939612"
      },
      "execution_count": null,
      "outputs": [
        {
          "output_type": "execute_result",
          "data": {
            "text/plain": [
              "Text(0.5, 1.0, 'Married_distribution_means Sample size=30000')"
            ]
          },
          "metadata": {},
          "execution_count": 20
        },
        {
          "output_type": "display_data",
          "data": {
            "text/plain": [
              "<Figure size 1300x400 with 2 Axes>"
            ],
            "image/png": "[encoded data removed]"
          },
          "metadata": {}
        }
      ]
    },
    {
      "cell_type": "code",
      "source": [
        "df['Age'].value_counts()"
      ],
      "metadata": {
        "colab": {
          "base_uri": "https://localhost:8080/"
        },
        "id": "ZOkgkR22k1wh",
        "outputId": "c993fc59-e5c9-4e2b-f07f-cb513488f373"
      },
      "execution_count": null,
      "outputs": [
        {
          "output_type": "execute_result",
          "data": {
            "text/plain": [
              "Age\n",
              "26-35    219587\n",
              "36-45    110013\n",
              "18-25     99660\n",
              "46-50     45701\n",
              "51-55     38501\n",
              "55+       21504\n",
              "0-17      15102\n",
              "Name: count, dtype: int64"
            ]
          },
          "metadata": {},
          "execution_count": 27
        }
      ]
    },
    {
      "cell_type": "markdown",
      "source": [
        "**Observations**\n",
        "+ As the sample size is increasing the sample mean tends to come closer to popuation mean\n",
        "+ As the sample size increase the std error is decresing narrowing down the spread of data\n",
        "+ Majority of data is covered under 99% Confidence Interval\n",
        "\n",
        "**Insights**\n",
        "+ Sample Size\n",
        "The analysis highlights the importance of sample size in estimating population parameters. It suggests that as the sample size increases, the confidence\n",
        "intervals become narrower and more precise . In business, this implies that larger sample sizes can provide more reliable insights and estimates.\n",
        "+ Confidence Intervals\n",
        "From the above analysis, we can see that the confidence interval overlap for all the sample sizes. This means that there is no statistically\n",
        "significant difference between the average spending per transaction for married and unmarried customers within the given samples.\n"
      ],
      "metadata": {
        "id": "n8GxXmt-DORQ"
      }
    },
    {
      "cell_type": "code",
      "source": [
        "'''For sample size = 300'''\n",
        "\n",
        "# Computing Z-score for different Confidence interval\n",
        "Z_90=1.645\n",
        "Z_95=1.96\n",
        "Z_99=2.576\n",
        "sample_size=300\n",
        "avg_spend=df.groupby(['User_ID','Age'])[['Purchase']].sum().reset_index()\n",
        "# Calculating the  population mean for average spend of Age(0-17)\n",
        "age_0_17_data=avg_spend[avg_spend['Age']=='0-17']\n",
        "x=[np.mean(age_0_17_data['Purchase'].sample(300,replace=True)) for i in range (10000)]\n",
        "Sample_mean_age_0_17=np.mean(x)\n",
        "# Calculating the  population mean for average spend of Age(18-25)\n",
        "age_18_25_data=avg_spend[avg_spend['Age']=='18-25']\n",
        "y=[np.mean(age_18_25_data['Purchase'].sample(300,replace=True)) for i in range (10000)]\n",
        "Sample_mean_age_18_25=np.mean(y)\n",
        "# Calculating the  population mean for average spend of Age(26-35)\n",
        "age_26_35_data=avg_spend[avg_spend['Age']=='26-35']\n",
        "z=[np.mean(age_26_35_data['Purchase'].sample(300,replace=True)) for i in range (10000)]\n",
        "Sample_mean_age_26_35=np.mean(z)\n",
        "# Calculating the  population mean for average spend of Age(36-45)\n",
        "age_36_45_data=avg_spend[avg_spend['Age']=='36-45']\n",
        "a=[np.mean(age_36_45_data['Purchase'].sample(300,replace=True)) for i in range (10000)]\n",
        "Sample_mean_age_36_45=np.mean(a)\n",
        "# Calculating the  population mean for average spend of Age(46-50)\n",
        "age_46_50_data=avg_spend[avg_spend['Age']=='46-50']\n",
        "b=[np.mean(age_46_50_data['Purchase'].sample(300,replace=True)) for i in range (10000)]\n",
        "Sample_mean_age_46_50=np.mean(b)\n",
        "# Calculating the  population mean for average spend of Age(51-55)\n",
        "age_51_55_data=avg_spend[avg_spend['Age']=='51-55']\n",
        "c=[np.mean(age_51_55_data['Purchase'].sample(300,replace=True)) for i in range (10000)]\n",
        "Sample_mean_age_51_55=np.mean(c)\n",
        "# Calculating the  population mean for average spend of Age(55+)\n",
        "age_55_data=avg_spend[avg_spend['Age']=='55+']\n",
        "d=[np.mean(age_55_data['Purchase'].sample(300,replace=True)) for i in range (10000)]\n",
        "Sample_mean_age_55=np.mean(d)\n",
        "\n",
        "print('Sample_mean_age(0-17) :',Sample_mean_age_0_17)\n",
        "print('Sample_mean_age(18-25) :',Sample_mean_age_18_25)\n",
        "print('Sample_mean_age(26-35) :',Sample_mean_age_26_35)\n",
        "print('Sample_mean_age(36-45) :',Sample_mean_age_36_45)\n",
        "print('Sample_mean_age(46-50) :',Sample_mean_age_46_50)\n",
        "print('Sample_mean_age(51-55) :',Sample_mean_age_51_55)\n",
        "print('Sample_mean_age(55) :',Sample_mean_age_55)\n",
        "\n",
        "\n",
        "\n",
        "#Finding the standard error\n",
        "sigma_0_17 = np.std(age_0_17_data['Purchase'])\n",
        "sigma_18_25= np.std(age_18_25_data['Purchase'])\n",
        "sigma_26_35 = np.std(age_26_35_data['Purchase'])\n",
        "sigma_36_45 = np.std(age_36_45_data['Purchase'])\n",
        "sigma_46_50 = np.std(age_46_50_data['Purchase'])\n",
        "sigma_51_55 = np.std(age_51_55_data['Purchase'])\n",
        "sigma_55 = np.std(age_55_data['Purchase'])\n",
        "std_error_0_17 = sigma_0_17 / (np.sqrt(300))\n",
        "std_error_18_25 = sigma_18_25 / (np.sqrt(300))\n",
        "std_error_26_35 = sigma_26_35 / (np.sqrt(300))\n",
        "std_error_36_45 = sigma_36_45 / (np.sqrt(300))\n",
        "std_error_46_50 = sigma_46_50 / (np.sqrt(300))\n",
        "std_error_51_55 = sigma_51_55 / (np.sqrt(300))\n",
        "std_error_55 = sigma_55 / (np.sqrt(300))\n",
        "print('Standard_error_age_0_17:', std_error_0_17)\n",
        "print('Standard_error_age_18_25:', std_error_18_25)\n",
        "print('Standard_error_age_26_35:', std_error_26_35)\n",
        "print('Standard_error_age_36_45:', std_error_36_45)\n",
        "print('Standard_error_age_46_50:', std_error_46_50)\n",
        "print('Standard_error_age_51_55:', std_error_51_55)\n",
        "print('Standard_error_age_55:', std_error_55)\n",
        "\n",
        "\n",
        "\n",
        "\n",
        "\n"
      ],
      "metadata": {
        "colab": {
          "base_uri": "https://localhost:8080/"
        },
        "id": "jyME3pFYkz_F",
        "outputId": "97fb86dc-3a50-40d8-9537-622b083338bd"
      },
      "execution_count": null,
      "outputs": [
        {
          "output_type": "stream",
          "name": "stdout",
          "text": [
            "Sample_mean_age(0-17) : 619493.672966\n",
            "Sample_mean_age(18-25) : 855118.5214906667\n",
            "Sample_mean_age(26-35) : 990102.9970060001\n",
            "Sample_mean_age(36-45) : 878380.9731603335\n",
            "Sample_mean_age(46-50) : 793351.7894306667\n",
            "Sample_mean_age(51-55) : 763414.6437763334\n",
            "Sample_mean_age(55) : 539293.197348\n",
            "Standard_error_age_0_17: 39576.146711111716\n",
            "Standard_error_age_18_25: 51242.25164626517\n",
            "Standard_error_age_26_35: 59545.530889817055\n",
            "Standard_error_age_36_45: 56647.2840266631\n",
            "Standard_error_age_46_50: 53602.55108942733\n",
            "Standard_error_age_51_55: 45697.16960423796\n",
            "Standard_error_age_55: 35602.21032966309\n",
            "Confidence Interval fro 90%\n",
            "0_17_CI= [684596.4343057788, 554390.9116262213]\n",
            "18_25__CI= [939412.0254487728, 770825.0175325605]\n",
            "26_35_CI= [1088055.3953197491, 892150.5986922511]\n",
            "36_45_CI= [971565.7553841943, 785196.1909364726]\n",
            "46_50_CI= [881527.9859727747, 705175.5928885587]\n",
            "51_55_CI= [838586.4877753048, 688242.799777362]\n",
            "55_CI= [597858.8333402958, 480727.5613557042]\n",
            "0_17_width for 90% CI: 130205.52267955756\n",
            "18_25_width for 90% CI: 168587.00791621231\n",
            "26_35width for 90% CI: 195904.796627498\n",
            "36_45_width for 90% CI: 186369.5644477217\n",
            "46_50_width for 90% CI: 186369.5644477217\n",
            "51_55_width for 90% CI: 150343.6879979428\n",
            "55_width for 90% CI: 117131.27198459161\n"
          ]
        }
      ]
    },
    {
      "cell_type": "markdown",
      "source": [],
      "metadata": {
        "id": "hamBHxIVDPlF"
      }
    },
    {
      "cell_type": "code",
      "source": [
        "#Finding Confidence Interval for 90 %\n",
        "print('Confidence Interval fro 90%')\n",
        "\n",
        "Upper_Bound_age_0_17=(Sample_mean_age_0_17 + Z_90*std_error_0_17)\n",
        "Lower_Bound_age_0_17 =(Sample_mean_age_0_17 - Z_90*std_error_0_17)\n",
        "\n",
        "Upper_Bound_age_18_25=(Sample_mean_age_18_25 + Z_90*std_error_18_25)\n",
        "Lower_Bound_age_18_25 =(Sample_mean_age_18_25- Z_90*std_error_18_25)\n",
        "\n",
        "Upper_Bound_age_26_35=(Sample_mean_age_26_35 + Z_90*std_error_26_35)\n",
        "Lower_Bound_age_26_35 =(Sample_mean_age_26_35 - Z_90*std_error_26_35)\n",
        "\n",
        "Upper_Bound_age_36_45=(Sample_mean_age_36_45 + Z_90*std_error_36_45)\n",
        "Lower_Bound_age_36_45 =(Sample_mean_age_36_45 - Z_90*std_error_36_45)\n",
        "\n",
        "Upper_Bound_age_46_50=(Sample_mean_age_46_50 + Z_90*std_error_46_50)\n",
        "Lower_Bound_age_46_50=(Sample_mean_age_46_50 - Z_90*std_error_46_50)\n",
        "\n",
        "Upper_Bound_age_51_55=(Sample_mean_age_51_55 + Z_90*std_error_51_55)\n",
        "Lower_Bound_age_51_55 =(Sample_mean_age_51_55 - Z_90*std_error_51_55)\n",
        "\n",
        "Upper_Bound_age_55=(Sample_mean_age_55 + Z_90*std_error_55)\n",
        "Lower_Bound_age_55 =(Sample_mean_age_55 - Z_90*std_error_55)\n",
        "\n",
        "Width_0_17 =Upper_Bound_age_0_17-Lower_Bound_age_0_17\n",
        "Width_18_25=Upper_Bound_age_18_25-Lower_Bound_age_18_25\n",
        "Width_26_35=Upper_Bound_age_26_35-Lower_Bound_age_26_35\n",
        "Width_36_45=Upper_Bound_age_36_45-Lower_Bound_age_36_45\n",
        "Width_46_50=Upper_Bound_age_46_50-Lower_Bound_age_46_50\n",
        "Width_51_55=Upper_Bound_age_51_55-Lower_Bound_age_51_55\n",
        "Width_55=Upper_Bound_age_55-Lower_Bound_age_55\n",
        "\n",
        "\n",
        "\n",
        "print('0_17_CI=',[Upper_Bound_age_0_17,Lower_Bound_age_0_17])\n",
        "print('18_25__CI=',[Upper_Bound_age_18_25,Lower_Bound_age_18_25])\n",
        "print('26_35_CI=',[Upper_Bound_age_26_35,Lower_Bound_age_26_35])\n",
        "print('36_45_CI=',[Upper_Bound_age_36_45,Lower_Bound_age_36_45])\n",
        "print('46_50_CI=',[Upper_Bound_age_46_50,Lower_Bound_age_46_50])\n",
        "print('51_55_CI=',[Upper_Bound_age_51_55,Lower_Bound_age_51_55])\n",
        "print('55_CI=',[Upper_Bound_age_55,Lower_Bound_age_55])\n",
        "\n",
        "print('0_17_width for 90% CI:', Width_0_17)\n",
        "print('18_25_width for 90% CI:', Width_18_25)\n",
        "print('26_35width for 90% CI:', Width_26_35)\n",
        "print('36_45_width for 90% CI:', Width_36_45)\n",
        "print('46_50_width for 90% CI:', Width_36_45)\n",
        "print('51_55_width for 90% CI:', Width_51_55)\n",
        "print('55_width for 90% CI:', Width_55)\n"
      ],
      "metadata": {
        "id": "6WuTBMOd2Wqj"
      },
      "execution_count": null,
      "outputs": []
    },
    {
      "cell_type": "code",
      "source": [
        "#Finding Confidence Interval for 95 %\n",
        "print('Confidence Interval fro 95%')\n",
        "\n",
        "Upper_Bound_age_0_17=(Sample_mean_age_0_17 + Z_95*std_error_0_17)\n",
        "Lower_Bound_age_0_17 =(Sample_mean_age_0_17 - Z_95*std_error_0_17)\n",
        "\n",
        "Upper_Bound_age_18_25=(Sample_mean_age_18_25 + Z_95*std_error_18_25)\n",
        "Lower_Bound_age_18_25 =(Sample_mean_age_18_25- Z_95*std_error_18_25)\n",
        "\n",
        "Upper_Bound_age_26_35=(Sample_mean_age_26_35 + Z_95*std_error_26_35)\n",
        "Lower_Bound_age_26_35 =(Sample_mean_age_26_35 - Z_95*std_error_26_35)\n",
        "\n",
        "Upper_Bound_age_36_45=(Sample_mean_age_36_45 + Z_95*std_error_36_45)\n",
        "Lower_Bound_age_36_45 =(Sample_mean_age_36_45 - Z_95*std_error_36_45)\n",
        "\n",
        "Upper_Bound_age_46_50=(Sample_mean_age_46_50 + Z_95*std_error_46_50)\n",
        "Lower_Bound_age_46_50=(Sample_mean_age_46_50 - Z_95*std_error_46_50)\n",
        "\n",
        "Upper_Bound_age_51_55=(Sample_mean_age_51_55 + Z_95*std_error_51_55)\n",
        "Lower_Bound_age_51_55 =(Sample_mean_age_51_55 - Z_95*std_error_51_55)\n",
        "\n",
        "Upper_Bound_age_55=(Sample_mean_age_55 + Z_95*std_error_55)\n",
        "Lower_Bound_age_55 =(Sample_mean_age_55 - Z_95*std_error_55)\n",
        "\n",
        "Width_0_17 =Upper_Bound_age_0_17-Lower_Bound_age_0_17\n",
        "Width_18_25=Upper_Bound_age_18_25-Lower_Bound_age_18_25\n",
        "Width_26_35=Upper_Bound_age_26_35-Lower_Bound_age_26_35\n",
        "Width_36_45=Upper_Bound_age_36_45-Lower_Bound_age_36_45\n",
        "Width_46_50=Upper_Bound_age_46_50-Lower_Bound_age_46_50\n",
        "Width_51_55=Upper_Bound_age_51_55-Lower_Bound_age_51_55\n",
        "Width_55=Upper_Bound_age_55-Lower_Bound_age_55\n",
        "\n",
        "\n",
        "\n",
        "print('0_17_CI=',[Upper_Bound_age_0_17,Lower_Bound_age_0_17])\n",
        "print('18_25__CI=',[Upper_Bound_age_18_25,Lower_Bound_age_18_25])\n",
        "print('26_35_CI=',[Upper_Bound_age_26_35,Lower_Bound_age_26_35])\n",
        "print('36_45_CI=',[Upper_Bound_age_36_45,Lower_Bound_age_36_45])\n",
        "print('46_50_CI=',[Upper_Bound_age_46_50,Lower_Bound_age_46_50])\n",
        "print('51_55_CI=',[Upper_Bound_age_51_55,Lower_Bound_age_51_55])\n",
        "print('55_CI=',[Upper_Bound_age_55,Lower_Bound_age_55])\n",
        "\n",
        "print('0_17_width for 90% CI:', Width_0_17)\n",
        "print('18_25_width for 90% CI:', Width_18_25)\n",
        "print('26_35width for 90% CI:', Width_26_35)\n",
        "print('36_45_width for 90% CI:', Width_36_45)\n",
        "print('46_50_width for 90% CI:', Width_36_45)\n",
        "print('51_55_width for 90% CI:', Width_51_55)\n",
        "print('55_width for 90% CI:', Width_55)\n"
      ],
      "metadata": {
        "colab": {
          "base_uri": "https://localhost:8080/"
        },
        "id": "VzltCPGIu3z8",
        "outputId": "a4c58a3f-c180-41e4-884b-4eb351a5242d"
      },
      "execution_count": null,
      "outputs": [
        {
          "output_type": "stream",
          "name": "stdout",
          "text": [
            "Confidence Interval fro 95%\n",
            "0_17_CI= [697062.920519779, 541924.4254122211]\n",
            "18_25__CI= [955553.3347173464, 754683.708263987]\n",
            "26_35_CI= [1106812.2375500416, 873393.7564619588]\n",
            "36_45_CI= [989409.6498525932, 767352.2964680737]\n",
            "46_50_CI= [898412.7895659443, 688290.7892953891]\n",
            "51_55_CI= [852981.0962006398, 673848.191352027]\n",
            "55_CI= [609073.5295941397, 469512.86510186037]\n",
            "0_17_width for 90% CI: 155138.49510755786\n",
            "18_25_width for 90% CI: 200869.62645335938\n",
            "26_35width for 90% CI: 233418.4810880829\n",
            "36_45_width for 90% CI: 222057.35338451946\n",
            "46_50_width for 90% CI: 222057.35338451946\n",
            "51_55_width for 90% CI: 179132.90484861284\n",
            "55_width for 90% CI: 139560.6644922793\n"
          ]
        }
      ]
    },
    {
      "cell_type": "code",
      "source": [
        "#Finding Confidence Interval for 99 %\n",
        "print('Confidence Interval fro 99%')\n",
        "\n",
        "Upper_Bound_age_0_17=(Sample_mean_age_0_17 + Z_99*std_error_0_17)\n",
        "Lower_Bound_age_0_17 =(Sample_mean_age_0_17 - Z_99*std_error_0_17)\n",
        "\n",
        "Upper_Bound_age_18_25=(Sample_mean_age_18_25 + Z_99*std_error_18_25)\n",
        "Lower_Bound_age_18_25 =(Sample_mean_age_18_25- Z_99*std_error_18_25)\n",
        "\n",
        "Upper_Bound_age_26_35=(Sample_mean_age_26_35 + Z_99*std_error_26_35)\n",
        "Lower_Bound_age_26_35 =(Sample_mean_age_26_35 - Z_99*std_error_26_35)\n",
        "\n",
        "Upper_Bound_age_36_45=(Sample_mean_age_36_45 + Z_99*std_error_36_45)\n",
        "Lower_Bound_age_36_45 =(Sample_mean_age_36_45 - Z_99*std_error_36_45)\n",
        "\n",
        "Upper_Bound_age_46_50=(Sample_mean_age_46_50 + Z_99*std_error_46_50)\n",
        "Lower_Bound_age_46_50=(Sample_mean_age_46_50 - Z_99*std_error_46_50)\n",
        "\n",
        "Upper_Bound_age_51_55=(Sample_mean_age_51_55 + Z_99*std_error_51_55)\n",
        "Lower_Bound_age_51_55 =(Sample_mean_age_51_55 - Z_99*std_error_51_55)\n",
        "\n",
        "Upper_Bound_age_55=(Sample_mean_age_55 + Z_99*std_error_55)\n",
        "Lower_Bound_age_55 =(Sample_mean_age_55 - Z_99*std_error_55)\n",
        "\n",
        "Width_0_17 =Upper_Bound_age_0_17-Lower_Bound_age_0_17\n",
        "Width_18_25=Upper_Bound_age_18_25-Lower_Bound_age_18_25\n",
        "Width_26_35=Upper_Bound_age_26_35-Lower_Bound_age_26_35\n",
        "Width_36_45=Upper_Bound_age_36_45-Lower_Bound_age_36_45\n",
        "Width_46_50=Upper_Bound_age_46_50-Lower_Bound_age_46_50\n",
        "Width_51_55=Upper_Bound_age_51_55-Lower_Bound_age_51_55\n",
        "Width_55=Upper_Bound_age_55-Lower_Bound_age_55\n",
        "\n",
        "\n",
        "\n",
        "print('0_17_CI=',[Upper_Bound_age_0_17,Lower_Bound_age_0_17])\n",
        "print('18_25__CI=',[Upper_Bound_age_18_25,Lower_Bound_age_18_25])\n",
        "print('26_35_CI=',[Upper_Bound_age_26_35,Lower_Bound_age_26_35])\n",
        "print('36_45_CI=',[Upper_Bound_age_36_45,Lower_Bound_age_36_45])\n",
        "print('46_50_CI=',[Upper_Bound_age_46_50,Lower_Bound_age_46_50])\n",
        "print('51_55_CI=',[Upper_Bound_age_51_55,Lower_Bound_age_51_55])\n",
        "print('55_CI=',[Upper_Bound_age_55,Lower_Bound_age_55])\n",
        "\n",
        "print('0_17_width for 90% CI:', Width_0_17)\n",
        "print('18_25_width for 90% CI:', Width_18_25)\n",
        "print('26_35width for 90% CI:', Width_26_35)\n",
        "print('36_45_width for 90% CI:', Width_36_45)\n",
        "print('46_50_width for 90% CI:', Width_36_45)\n",
        "print('51_55_width for 90% CI:', Width_51_55)\n",
        "print('55_width for 90% CI:', Width_55)\n"
      ],
      "metadata": {
        "colab": {
          "base_uri": "https://localhost:8080/"
        },
        "id": "WfalLcb62pA6",
        "outputId": "200e15fd-bf42-4d8d-add8-4d787521aed5"
      },
      "execution_count": null,
      "outputs": [
        {
          "output_type": "stream",
          "name": "stdout",
          "text": [
            "Confidence Interval fro 99%\n",
            "0_17_CI= [721441.8268938238, 517545.5190381763]\n",
            "18_25__CI= [987118.5617314457, 723118.4812498876]\n",
            "26_35_CI= [1143492.2845781688, 836713.7094338314]\n",
            "36_45_CI= [1024304.3768130176, 732457.5695076493]\n",
            "46_50_CI= [931431.9610370315, 655271.6178243019]\n",
            "51_55_CI= [881130.5526768505, 645698.7348758164]\n",
            "55_CI= [631004.4911572122, 447581.9035387879]\n",
            "0_17_width for 90% CI: 203896.30785564752\n",
            "18_25_width for 90% CI: 264000.0804815581\n",
            "26_35width for 90% CI: 306778.5751443374\n",
            "36_45_width for 90% CI: 291846.80730536836\n",
            "46_50_width for 90% CI: 291846.80730536836\n",
            "51_55_width for 90% CI: 235431.81780103408\n",
            "55_width for 90% CI: 183422.58761842427\n"
          ]
        }
      ]
    },
    {
      "cell_type": "markdown",
      "source": [
        "**Observations**\n",
        "+ We can see the sample means are closer to the population mean for the differnt age groups\n",
        "+ With greater confidence interval we have the upper limit and lower limit range increases. As we have seen for gender and marital status\n"
      ],
      "metadata": {
        "id": "ZQXksKlVXJxl"
      }
    },
    {
      "cell_type": "markdown",
      "source": [
        "**Reccomendations**\n",
        "\n",
        "* **Target Male Shoppers**\n",
        "Since male customers account for a significant portion of Black Friday sales and tend to spend more per transaction on average, Walmart should tailor its marketing\n",
        "strategies and product offerings to incentivize higher spending among male customers while ensuring competitive pricing for female-oriented products.\n",
        "***Focus on 26 - 45 Age Group**\n",
        "With the age group between 26 and 45 contributing to the majority of sales, Walmart should specifically cater to the preferences and needs of this demographic.This could\n",
        "include offering exclusive deals on products that are popular among this age group.\n",
        "*   **Engage Younger Shoppers**\n",
        "Knowing that customers in the 0 - 17 age group have the lowest spending per transaction, Walmart can try to increase their spending per transaction by offering them\n",
        "more attractive discounts, coupons, or rewards programs. It's essential to start building brand loyalty among younger consumers.\n",
        "* **Customer Segmentation**\n",
        "Since customers in the 18 - 25, 26 - 35, and 46 - 50 age groups exhibit similar buying characteristics, and so do the customers in 36 - 45 and 55+, Walmart can optimize\n",
        "its product selection to cater to the preferences of these age groups. Also, Walmart can use this information to adjust their pricing strategies for different age groups.\n",
        "* **Enhance the 51 - 55 Age Group Shopping Experience**\n",
        "Considering that customers aged 51 - 55 have the highest spending per transaction, Walmart offer them exclusive pre-sale access, special discount or provide\n",
        "personalized product recommendations for this age group. Walmart can also introduce loyalty programs specifically designed to reward and retain customers in the 51 -\n",
        "55 age group.\n",
        "* **Post-Black Friday Engagement**\n",
        "After Black Friday, walmart should engage with customers who made purchases by sending follow-up emails or offers for related products. This can help increase\n",
        "customer retention and encourage repeat business throughout the holiday season and beyond.\n",
        "\n",
        "\n",
        "\n",
        "\n",
        "\n",
        "\n"
      ],
      "metadata": {
        "id": "0UlYC79GDRGS"
      }
    },
    {
      "cell_type": "code",
      "source": [],
      "metadata": {
        "id": "HuR2AhXO24Od"
      },
      "execution_count": null,
      "outputs": []
    }
  ],
  "metadata": {
    "colab": {
      "provenance": []
    },
    "kernelspec": {
      "display_name": "Python 3",
      "name": "python3"
    },
    "language_info": {
      "name": "python"
    }
  },
  "nbformat": 4,
  "nbformat_minor": 0
}
